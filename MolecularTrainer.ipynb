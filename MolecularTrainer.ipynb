{
 "cells": [
  {
   "cell_type": "code",
   "metadata": {
    "ExecuteTime": {
     "end_time": "2025-04-17T04:33:04.558739Z",
     "start_time": "2025-04-17T04:33:03.685135Z"
    }
   },
   "source": [
    "from CharRNN import CharRNN\n",
    "import torch, torch.optim as optim, torch.nn as nn\n",
    "from torch.utils.data import DataLoader, Dataset\n",
    "from onehotencoder import onehotencoder\n",
    "import numpy as np\n",
    "device = 'cuda' if torch.cuda.is_available() else 'cpu'"
   ],
   "outputs": [],
   "execution_count": 1
  },
  {
   "cell_type": "code",
   "metadata": {
    "ExecuteTime": {
     "end_time": "2025-04-17T04:33:04.604163Z",
     "start_time": "2025-04-17T04:33:04.602658Z"
    }
   },
   "source": [
    "#Basic one hot encoder i made to encode and decode both characters and sequences\n",
    "endecode = onehotencoder()\n",
    "#Hyperparameters\n",
    "vocab_size = onehotencoder.getVocabSize(self = endecode)\n",
    "hidden_dim = 150\n",
    "n_gram = 1\n",
    "learning_rate = 1e-6\n",
    "num_epochs = 15\n",
    "batch_size = 256\n",
    "temp = 1\n",
    "p = .9\n",
    "eps = .001"
   ],
   "outputs": [],
   "execution_count": 2
  },
  {
   "metadata": {
    "ExecuteTime": {
     "end_time": "2025-04-17T04:33:14.809842Z",
     "start_time": "2025-04-17T04:33:14.736810Z"
    }
   },
   "cell_type": "code",
   "outputs": [],
   "execution_count": 4,
   "source": [
    "#Torch dataset because the processed inputs and outputs were over 60 gb in size\n",
    "\n",
    "class SequenceDataset(Dataset):\n",
    "    def __init__(self, file_path, encoder):\n",
    "        self.file_path = file_path\n",
    "        self.encoder = encoder\n",
    "        with open(file_path, 'r') as f:\n",
    "            self.lines = f.readlines()\n",
    "    def __len__(self):\n",
    "        return len(self.lines)\n",
    "\n",
    "    def __getitem__(self, idx):\n",
    "        sequence = self.lines[idx].strip()\n",
    "        input_tensor = self.encoder.encode_sequence(sequence)\n",
    "        target_tensor = self.encoder.encode_sequence(sequence, targets=True)\n",
    "        return input_tensor, target_tensor\n",
    "\n",
    "#Load the dataset for working\n",
    "dataset = SequenceDataset('data/train.csv', endecode)\n",
    "dataloader = DataLoader(dataset, batch_size=batch_size, shuffle=True, num_workers= 3)"
   ]
  },
  {
   "cell_type": "code",
   "metadata": {
    "ExecuteTime": {
     "end_time": "2025-04-17T04:33:25.915471Z",
     "start_time": "2025-04-17T04:33:14.814561Z"
    }
   },
   "source": [
    "#Declare RNN with vocab size, hidden dim size\n",
    "charRNN = CharRNN(vocab_size, hidden_dim).to(device)\n",
    "\n",
    "#Using basic cross entropy loss\n",
    "criterion = nn.MSELoss(reduction='mean')\n",
    "\n",
    "#AdamW\n",
    "optimizer = optim.AdamW(charRNN.parameters(), lr=learning_rate)\n",
    "scheduler = torch.optim.lr_scheduler.ReduceLROnPlateau(optimizer,patience=3)\n",
    "\n",
    "#Typical training loop\n",
    "for epoch in range(num_epochs):\n",
    "    loss_avg = []\n",
    "    for batch_inputs, batch_targets in dataloader:\n",
    "        batch_inputs = batch_inputs.to(device)\n",
    "        batch_targets = batch_targets.to(device)\n",
    "        optimizer.zero_grad()\n",
    "        \n",
    "        logits, mu, std = charRNN(batch_inputs)\n",
    "\n",
    "        reconstruction_loss = criterion(logits, batch_targets)\n",
    "        KL_loss = -0.5 * torch.sum(1 + torch.log(std.pow(2)) - mu.pow(2) - std.pow(2))\n",
    "        partial_loss = reconstruction_loss + KL_loss\n",
    "\n",
    "        loss = partial_loss\n",
    "        loss.backward()\n",
    "\n",
    "        optimizer.step()\n",
    "        loss_avg.append(loss.item())\n",
    "    avg = torch.mean(torch.Tensor(loss_avg)).item()\n",
    "    scheduler.step(avg)\n",
    "    print(f\"Epoch {epoch + 1}/{num_epochs}, Loss: {avg}\")"
   ],
   "outputs": [
    {
     "ename": "KeyboardInterrupt",
     "evalue": "",
     "output_type": "error",
     "traceback": [
      "\u001B[31m---------------------------------------------------------------------------\u001B[39m",
      "\u001B[31mKeyboardInterrupt\u001B[39m                         Traceback (most recent call last)",
      "\u001B[36mCell\u001B[39m\u001B[36m \u001B[39m\u001B[32mIn[5]\u001B[39m\u001B[32m, line 14\u001B[39m\n\u001B[32m     12\u001B[39m \u001B[38;5;28;01mfor\u001B[39;00m epoch \u001B[38;5;129;01min\u001B[39;00m \u001B[38;5;28mrange\u001B[39m(num_epochs):\n\u001B[32m     13\u001B[39m     loss_avg = []\n\u001B[32m---> \u001B[39m\u001B[32m14\u001B[39m \u001B[43m    \u001B[49m\u001B[38;5;28;43;01mfor\u001B[39;49;00m\u001B[43m \u001B[49m\u001B[43mbatch_inputs\u001B[49m\u001B[43m,\u001B[49m\u001B[43m \u001B[49m\u001B[43mbatch_targets\u001B[49m\u001B[43m \u001B[49m\u001B[38;5;129;43;01min\u001B[39;49;00m\u001B[43m \u001B[49m\u001B[43mdataloader\u001B[49m\u001B[43m:\u001B[49m\n\u001B[32m     15\u001B[39m \u001B[43m        \u001B[49m\u001B[43mbatch_inputs\u001B[49m\u001B[43m \u001B[49m\u001B[43m=\u001B[49m\u001B[43m \u001B[49m\u001B[43mbatch_inputs\u001B[49m\u001B[43m.\u001B[49m\u001B[43mto\u001B[49m\u001B[43m(\u001B[49m\u001B[43mdevice\u001B[49m\u001B[43m)\u001B[49m\n\u001B[32m     16\u001B[39m \u001B[43m        \u001B[49m\u001B[43mbatch_targets\u001B[49m\u001B[43m \u001B[49m\u001B[43m=\u001B[49m\u001B[43m \u001B[49m\u001B[43mbatch_targets\u001B[49m\u001B[43m.\u001B[49m\u001B[43mto\u001B[49m\u001B[43m(\u001B[49m\u001B[43mdevice\u001B[49m\u001B[43m)\u001B[49m\n",
      "\u001B[36mFile \u001B[39m\u001B[32m~/PycharmProjects/Drug-Discovery/.venv/lib/python3.12/site-packages/torch/utils/data/dataloader.py:708\u001B[39m, in \u001B[36m_BaseDataLoaderIter.__next__\u001B[39m\u001B[34m(self)\u001B[39m\n\u001B[32m    705\u001B[39m \u001B[38;5;28;01mif\u001B[39;00m \u001B[38;5;28mself\u001B[39m._sampler_iter \u001B[38;5;129;01mis\u001B[39;00m \u001B[38;5;28;01mNone\u001B[39;00m:\n\u001B[32m    706\u001B[39m     \u001B[38;5;66;03m# TODO(https://github.com/pytorch/pytorch/issues/76750)\u001B[39;00m\n\u001B[32m    707\u001B[39m     \u001B[38;5;28mself\u001B[39m._reset()  \u001B[38;5;66;03m# type: ignore[call-arg]\u001B[39;00m\n\u001B[32m--> \u001B[39m\u001B[32m708\u001B[39m data = \u001B[38;5;28;43mself\u001B[39;49m\u001B[43m.\u001B[49m\u001B[43m_next_data\u001B[49m\u001B[43m(\u001B[49m\u001B[43m)\u001B[49m\n\u001B[32m    709\u001B[39m \u001B[38;5;28mself\u001B[39m._num_yielded += \u001B[32m1\u001B[39m\n\u001B[32m    710\u001B[39m \u001B[38;5;28;01mif\u001B[39;00m (\n\u001B[32m    711\u001B[39m     \u001B[38;5;28mself\u001B[39m._dataset_kind == _DatasetKind.Iterable\n\u001B[32m    712\u001B[39m     \u001B[38;5;129;01mand\u001B[39;00m \u001B[38;5;28mself\u001B[39m._IterableDataset_len_called \u001B[38;5;129;01mis\u001B[39;00m \u001B[38;5;129;01mnot\u001B[39;00m \u001B[38;5;28;01mNone\u001B[39;00m\n\u001B[32m    713\u001B[39m     \u001B[38;5;129;01mand\u001B[39;00m \u001B[38;5;28mself\u001B[39m._num_yielded > \u001B[38;5;28mself\u001B[39m._IterableDataset_len_called\n\u001B[32m    714\u001B[39m ):\n",
      "\u001B[36mFile \u001B[39m\u001B[32m~/PycharmProjects/Drug-Discovery/.venv/lib/python3.12/site-packages/torch/utils/data/dataloader.py:1458\u001B[39m, in \u001B[36m_MultiProcessingDataLoaderIter._next_data\u001B[39m\u001B[34m(self)\u001B[39m\n\u001B[32m   1455\u001B[39m     \u001B[38;5;28;01mreturn\u001B[39;00m \u001B[38;5;28mself\u001B[39m._process_data(data)\n\u001B[32m   1457\u001B[39m \u001B[38;5;28;01massert\u001B[39;00m \u001B[38;5;129;01mnot\u001B[39;00m \u001B[38;5;28mself\u001B[39m._shutdown \u001B[38;5;129;01mand\u001B[39;00m \u001B[38;5;28mself\u001B[39m._tasks_outstanding > \u001B[32m0\u001B[39m\n\u001B[32m-> \u001B[39m\u001B[32m1458\u001B[39m idx, data = \u001B[38;5;28;43mself\u001B[39;49m\u001B[43m.\u001B[49m\u001B[43m_get_data\u001B[49m\u001B[43m(\u001B[49m\u001B[43m)\u001B[49m\n\u001B[32m   1459\u001B[39m \u001B[38;5;28mself\u001B[39m._tasks_outstanding -= \u001B[32m1\u001B[39m\n\u001B[32m   1460\u001B[39m \u001B[38;5;28;01mif\u001B[39;00m \u001B[38;5;28mself\u001B[39m._dataset_kind == _DatasetKind.Iterable:\n\u001B[32m   1461\u001B[39m     \u001B[38;5;66;03m# Check for _IterableDatasetStopIteration\u001B[39;00m\n",
      "\u001B[36mFile \u001B[39m\u001B[32m~/PycharmProjects/Drug-Discovery/.venv/lib/python3.12/site-packages/torch/utils/data/dataloader.py:1420\u001B[39m, in \u001B[36m_MultiProcessingDataLoaderIter._get_data\u001B[39m\u001B[34m(self)\u001B[39m\n\u001B[32m   1416\u001B[39m     \u001B[38;5;66;03m# In this case, `self._data_queue` is a `queue.Queue`,. But we don't\u001B[39;00m\n\u001B[32m   1417\u001B[39m     \u001B[38;5;66;03m# need to call `.task_done()` because we don't use `.join()`.\u001B[39;00m\n\u001B[32m   1418\u001B[39m \u001B[38;5;28;01melse\u001B[39;00m:\n\u001B[32m   1419\u001B[39m     \u001B[38;5;28;01mwhile\u001B[39;00m \u001B[38;5;28;01mTrue\u001B[39;00m:\n\u001B[32m-> \u001B[39m\u001B[32m1420\u001B[39m         success, data = \u001B[38;5;28;43mself\u001B[39;49m\u001B[43m.\u001B[49m\u001B[43m_try_get_data\u001B[49m\u001B[43m(\u001B[49m\u001B[43m)\u001B[49m\n\u001B[32m   1421\u001B[39m         \u001B[38;5;28;01mif\u001B[39;00m success:\n\u001B[32m   1422\u001B[39m             \u001B[38;5;28;01mreturn\u001B[39;00m data\n",
      "\u001B[36mFile \u001B[39m\u001B[32m~/PycharmProjects/Drug-Discovery/.venv/lib/python3.12/site-packages/torch/utils/data/dataloader.py:1251\u001B[39m, in \u001B[36m_MultiProcessingDataLoaderIter._try_get_data\u001B[39m\u001B[34m(self, timeout)\u001B[39m\n\u001B[32m   1238\u001B[39m \u001B[38;5;28;01mdef\u001B[39;00m\u001B[38;5;250m \u001B[39m\u001B[34m_try_get_data\u001B[39m(\u001B[38;5;28mself\u001B[39m, timeout=_utils.MP_STATUS_CHECK_INTERVAL):\n\u001B[32m   1239\u001B[39m     \u001B[38;5;66;03m# Tries to fetch data from `self._data_queue` once for a given timeout.\u001B[39;00m\n\u001B[32m   1240\u001B[39m     \u001B[38;5;66;03m# This can also be used as inner loop of fetching without timeout, with\u001B[39;00m\n\u001B[32m   (...)\u001B[39m\u001B[32m   1248\u001B[39m     \u001B[38;5;66;03m# Returns a 2-tuple:\u001B[39;00m\n\u001B[32m   1249\u001B[39m     \u001B[38;5;66;03m#   (bool: whether successfully get data, any: data if successful else None)\u001B[39;00m\n\u001B[32m   1250\u001B[39m     \u001B[38;5;28;01mtry\u001B[39;00m:\n\u001B[32m-> \u001B[39m\u001B[32m1251\u001B[39m         data = \u001B[38;5;28;43mself\u001B[39;49m\u001B[43m.\u001B[49m\u001B[43m_data_queue\u001B[49m\u001B[43m.\u001B[49m\u001B[43mget\u001B[49m\u001B[43m(\u001B[49m\u001B[43mtimeout\u001B[49m\u001B[43m=\u001B[49m\u001B[43mtimeout\u001B[49m\u001B[43m)\u001B[49m\n\u001B[32m   1252\u001B[39m         \u001B[38;5;28;01mreturn\u001B[39;00m (\u001B[38;5;28;01mTrue\u001B[39;00m, data)\n\u001B[32m   1253\u001B[39m     \u001B[38;5;28;01mexcept\u001B[39;00m \u001B[38;5;167;01mException\u001B[39;00m \u001B[38;5;28;01mas\u001B[39;00m e:\n\u001B[32m   1254\u001B[39m         \u001B[38;5;66;03m# At timeout and error, we manually check whether any worker has\u001B[39;00m\n\u001B[32m   1255\u001B[39m         \u001B[38;5;66;03m# failed. Note that this is the only mechanism for Windows to detect\u001B[39;00m\n\u001B[32m   1256\u001B[39m         \u001B[38;5;66;03m# worker failures.\u001B[39;00m\n",
      "\u001B[36mFile \u001B[39m\u001B[32m/usr/lib/python3.12/multiprocessing/queues.py:122\u001B[39m, in \u001B[36mQueue.get\u001B[39m\u001B[34m(self, block, timeout)\u001B[39m\n\u001B[32m    120\u001B[39m         \u001B[38;5;28mself\u001B[39m._rlock.release()\n\u001B[32m    121\u001B[39m \u001B[38;5;66;03m# unserialize the data after having released the lock\u001B[39;00m\n\u001B[32m--> \u001B[39m\u001B[32m122\u001B[39m \u001B[38;5;28;01mreturn\u001B[39;00m \u001B[43m_ForkingPickler\u001B[49m\u001B[43m.\u001B[49m\u001B[43mloads\u001B[49m\u001B[43m(\u001B[49m\u001B[43mres\u001B[49m\u001B[43m)\u001B[49m\n",
      "\u001B[36mFile \u001B[39m\u001B[32m~/PycharmProjects/Drug-Discovery/.venv/lib/python3.12/site-packages/torch/multiprocessing/reductions.py:541\u001B[39m, in \u001B[36mrebuild_storage_fd\u001B[39m\u001B[34m(cls, df, size)\u001B[39m\n\u001B[32m    540\u001B[39m \u001B[38;5;28;01mdef\u001B[39;00m\u001B[38;5;250m \u001B[39m\u001B[34mrebuild_storage_fd\u001B[39m(\u001B[38;5;28mcls\u001B[39m, df, size):\n\u001B[32m--> \u001B[39m\u001B[32m541\u001B[39m     fd = \u001B[43mdf\u001B[49m\u001B[43m.\u001B[49m\u001B[43mdetach\u001B[49m\u001B[43m(\u001B[49m\u001B[43m)\u001B[49m\n\u001B[32m    542\u001B[39m     \u001B[38;5;28;01mtry\u001B[39;00m:\n\u001B[32m    543\u001B[39m         storage = storage_from_cache(\u001B[38;5;28mcls\u001B[39m, fd_id(fd))\n",
      "\u001B[36mFile \u001B[39m\u001B[32m/usr/lib/python3.12/multiprocessing/resource_sharer.py:57\u001B[39m, in \u001B[36mDupFd.detach\u001B[39m\u001B[34m(self)\u001B[39m\n\u001B[32m     55\u001B[39m \u001B[38;5;28;01mdef\u001B[39;00m\u001B[38;5;250m \u001B[39m\u001B[34mdetach\u001B[39m(\u001B[38;5;28mself\u001B[39m):\n\u001B[32m     56\u001B[39m \u001B[38;5;250m    \u001B[39m\u001B[33;03m'''Get the fd.  This should only be called once.'''\u001B[39;00m\n\u001B[32m---> \u001B[39m\u001B[32m57\u001B[39m     \u001B[38;5;28;01mwith\u001B[39;00m \u001B[43m_resource_sharer\u001B[49m\u001B[43m.\u001B[49m\u001B[43mget_connection\u001B[49m\u001B[43m(\u001B[49m\u001B[38;5;28;43mself\u001B[39;49m\u001B[43m.\u001B[49m\u001B[43m_id\u001B[49m\u001B[43m)\u001B[49m \u001B[38;5;28;01mas\u001B[39;00m conn:\n\u001B[32m     58\u001B[39m         \u001B[38;5;28;01mreturn\u001B[39;00m reduction.recv_handle(conn)\n",
      "\u001B[36mFile \u001B[39m\u001B[32m/usr/lib/python3.12/multiprocessing/resource_sharer.py:86\u001B[39m, in \u001B[36m_ResourceSharer.get_connection\u001B[39m\u001B[34m(ident)\u001B[39m\n\u001B[32m     84\u001B[39m \u001B[38;5;28;01mfrom\u001B[39;00m\u001B[38;5;250m \u001B[39m\u001B[34;01m.\u001B[39;00m\u001B[34;01mconnection\u001B[39;00m\u001B[38;5;250m \u001B[39m\u001B[38;5;28;01mimport\u001B[39;00m Client\n\u001B[32m     85\u001B[39m address, key = ident\n\u001B[32m---> \u001B[39m\u001B[32m86\u001B[39m c = \u001B[43mClient\u001B[49m\u001B[43m(\u001B[49m\u001B[43maddress\u001B[49m\u001B[43m,\u001B[49m\u001B[43m \u001B[49m\u001B[43mauthkey\u001B[49m\u001B[43m=\u001B[49m\u001B[43mprocess\u001B[49m\u001B[43m.\u001B[49m\u001B[43mcurrent_process\u001B[49m\u001B[43m(\u001B[49m\u001B[43m)\u001B[49m\u001B[43m.\u001B[49m\u001B[43mauthkey\u001B[49m\u001B[43m)\u001B[49m\n\u001B[32m     87\u001B[39m c.send((key, os.getpid()))\n\u001B[32m     88\u001B[39m \u001B[38;5;28;01mreturn\u001B[39;00m c\n",
      "\u001B[36mFile \u001B[39m\u001B[32m/usr/lib/python3.12/multiprocessing/connection.py:525\u001B[39m, in \u001B[36mClient\u001B[39m\u001B[34m(address, family, authkey)\u001B[39m\n\u001B[32m    522\u001B[39m     \u001B[38;5;28;01mraise\u001B[39;00m \u001B[38;5;167;01mTypeError\u001B[39;00m(\u001B[33m'\u001B[39m\u001B[33mauthkey should be a byte string\u001B[39m\u001B[33m'\u001B[39m)\n\u001B[32m    524\u001B[39m \u001B[38;5;28;01mif\u001B[39;00m authkey \u001B[38;5;129;01mis\u001B[39;00m \u001B[38;5;129;01mnot\u001B[39;00m \u001B[38;5;28;01mNone\u001B[39;00m:\n\u001B[32m--> \u001B[39m\u001B[32m525\u001B[39m     \u001B[43manswer_challenge\u001B[49m\u001B[43m(\u001B[49m\u001B[43mc\u001B[49m\u001B[43m,\u001B[49m\u001B[43m \u001B[49m\u001B[43mauthkey\u001B[49m\u001B[43m)\u001B[49m\n\u001B[32m    526\u001B[39m     deliver_challenge(c, authkey)\n\u001B[32m    528\u001B[39m \u001B[38;5;28;01mreturn\u001B[39;00m c\n",
      "\u001B[36mFile \u001B[39m\u001B[32m/usr/lib/python3.12/multiprocessing/connection.py:953\u001B[39m, in \u001B[36manswer_challenge\u001B[39m\u001B[34m(connection, authkey)\u001B[39m\n\u001B[32m    950\u001B[39m \u001B[38;5;28;01mif\u001B[39;00m \u001B[38;5;129;01mnot\u001B[39;00m \u001B[38;5;28misinstance\u001B[39m(authkey, \u001B[38;5;28mbytes\u001B[39m):\n\u001B[32m    951\u001B[39m     \u001B[38;5;28;01mraise\u001B[39;00m \u001B[38;5;167;01mValueError\u001B[39;00m(\n\u001B[32m    952\u001B[39m         \u001B[33m\"\u001B[39m\u001B[33mAuthkey must be bytes, not \u001B[39m\u001B[38;5;132;01m{0!s}\u001B[39;00m\u001B[33m\"\u001B[39m.format(\u001B[38;5;28mtype\u001B[39m(authkey)))\n\u001B[32m--> \u001B[39m\u001B[32m953\u001B[39m message = \u001B[43mconnection\u001B[49m\u001B[43m.\u001B[49m\u001B[43mrecv_bytes\u001B[49m\u001B[43m(\u001B[49m\u001B[32;43m256\u001B[39;49m\u001B[43m)\u001B[49m         \u001B[38;5;66;03m# reject large message\u001B[39;00m\n\u001B[32m    954\u001B[39m \u001B[38;5;28;01mif\u001B[39;00m \u001B[38;5;129;01mnot\u001B[39;00m message.startswith(_CHALLENGE):\n\u001B[32m    955\u001B[39m     \u001B[38;5;28;01mraise\u001B[39;00m AuthenticationError(\n\u001B[32m    956\u001B[39m             \u001B[33mf\u001B[39m\u001B[33m'\u001B[39m\u001B[33mProtocol error, expected challenge: \u001B[39m\u001B[38;5;132;01m{\u001B[39;00mmessage\u001B[38;5;132;01m=}\u001B[39;00m\u001B[33m'\u001B[39m)\n",
      "\u001B[36mFile \u001B[39m\u001B[32m/usr/lib/python3.12/multiprocessing/connection.py:216\u001B[39m, in \u001B[36m_ConnectionBase.recv_bytes\u001B[39m\u001B[34m(self, maxlength)\u001B[39m\n\u001B[32m    214\u001B[39m \u001B[38;5;28;01mif\u001B[39;00m maxlength \u001B[38;5;129;01mis\u001B[39;00m \u001B[38;5;129;01mnot\u001B[39;00m \u001B[38;5;28;01mNone\u001B[39;00m \u001B[38;5;129;01mand\u001B[39;00m maxlength < \u001B[32m0\u001B[39m:\n\u001B[32m    215\u001B[39m     \u001B[38;5;28;01mraise\u001B[39;00m \u001B[38;5;167;01mValueError\u001B[39;00m(\u001B[33m\"\u001B[39m\u001B[33mnegative maxlength\u001B[39m\u001B[33m\"\u001B[39m)\n\u001B[32m--> \u001B[39m\u001B[32m216\u001B[39m buf = \u001B[38;5;28;43mself\u001B[39;49m\u001B[43m.\u001B[49m\u001B[43m_recv_bytes\u001B[49m\u001B[43m(\u001B[49m\u001B[43mmaxlength\u001B[49m\u001B[43m)\u001B[49m\n\u001B[32m    217\u001B[39m \u001B[38;5;28;01mif\u001B[39;00m buf \u001B[38;5;129;01mis\u001B[39;00m \u001B[38;5;28;01mNone\u001B[39;00m:\n\u001B[32m    218\u001B[39m     \u001B[38;5;28mself\u001B[39m._bad_message_length()\n",
      "\u001B[36mFile \u001B[39m\u001B[32m/usr/lib/python3.12/multiprocessing/connection.py:430\u001B[39m, in \u001B[36mConnection._recv_bytes\u001B[39m\u001B[34m(self, maxsize)\u001B[39m\n\u001B[32m    429\u001B[39m \u001B[38;5;28;01mdef\u001B[39;00m\u001B[38;5;250m \u001B[39m\u001B[34m_recv_bytes\u001B[39m(\u001B[38;5;28mself\u001B[39m, maxsize=\u001B[38;5;28;01mNone\u001B[39;00m):\n\u001B[32m--> \u001B[39m\u001B[32m430\u001B[39m     buf = \u001B[38;5;28;43mself\u001B[39;49m\u001B[43m.\u001B[49m\u001B[43m_recv\u001B[49m\u001B[43m(\u001B[49m\u001B[32;43m4\u001B[39;49m\u001B[43m)\u001B[49m\n\u001B[32m    431\u001B[39m     size, = struct.unpack(\u001B[33m\"\u001B[39m\u001B[33m!i\u001B[39m\u001B[33m\"\u001B[39m, buf.getvalue())\n\u001B[32m    432\u001B[39m     \u001B[38;5;28;01mif\u001B[39;00m size == -\u001B[32m1\u001B[39m:\n",
      "\u001B[36mFile \u001B[39m\u001B[32m/usr/lib/python3.12/multiprocessing/connection.py:395\u001B[39m, in \u001B[36mConnection._recv\u001B[39m\u001B[34m(self, size, read)\u001B[39m\n\u001B[32m    393\u001B[39m remaining = size\n\u001B[32m    394\u001B[39m \u001B[38;5;28;01mwhile\u001B[39;00m remaining > \u001B[32m0\u001B[39m:\n\u001B[32m--> \u001B[39m\u001B[32m395\u001B[39m     chunk = \u001B[43mread\u001B[49m\u001B[43m(\u001B[49m\u001B[43mhandle\u001B[49m\u001B[43m,\u001B[49m\u001B[43m \u001B[49m\u001B[43mremaining\u001B[49m\u001B[43m)\u001B[49m\n\u001B[32m    396\u001B[39m     n = \u001B[38;5;28mlen\u001B[39m(chunk)\n\u001B[32m    397\u001B[39m     \u001B[38;5;28;01mif\u001B[39;00m n == \u001B[32m0\u001B[39m:\n",
      "\u001B[31mKeyboardInterrupt\u001B[39m: "
     ]
    }
   ],
   "execution_count": 5
  },
  {
   "cell_type": "code",
   "metadata": {},
   "source": [
    "#This is a bit wonky as its turning the output into a probability distribution and then takes the smallest group of logits to add up to the probability of top_p then samples those\n",
    "def top_p_filtering(logits_p, top_p, temp_p):\n",
    "    probs = nn.functional.softmax(logits_p.squeeze(0)[-1] / temp_p, dim=0)\n",
    "    sorted_probs, sorted_indices = torch.sort(probs, descending=True)\n",
    "    cumulative_probs = torch.cumsum(sorted_probs, dim=0) \n",
    "    sorted_indices_to_remove = cumulative_probs > top_p\n",
    "    sorted_indices_to_remove[1:] = sorted_indices_to_remove[:-1].clone()\n",
    "    sorted_indices_to_remove[0] = False\n",
    "    indices_to_remove = sorted_indices_to_remove.scatter(0, sorted_indices, sorted_indices_to_remove)\n",
    "    filtered_probs = probs.masked_fill(indices_to_remove, 0).clone()\n",
    "    filtered_probs = filtered_probs / filtered_probs.sum()\n",
    "    next_token_idx = torch.multinomial(filtered_probs, 1).item()\n",
    "    return next_token_idx"
   ],
   "outputs": [],
   "execution_count": null
  },
  {
   "cell_type": "code",
   "metadata": {},
   "source": [
    "#Inputs the start token then does top p sampling until it generates the stop token[EOS] to it hits 200 characters whatever comes first.\n",
    "currenToken = endecode.encode('[BOS]').to(device)\n",
    "charRNN.to(device)\n",
    "charRNN.eval()\n",
    "generation = []\n",
    "with torch.no_grad():\n",
    "    while True:\n",
    "        if currenToken.dim() == 2:\n",
    "            currenToken = currenToken.unsqueeze(0)\n",
    "        logits, _ , _ = charRNN(currenToken)\n",
    "        next_token_index = top_p_filtering(logits, p, temp)\n",
    "        next_token = torch.zeros(vocab_size)\n",
    "        next_token[next_token_index] = 1\n",
    "        char = endecode.decode(next_token)\n",
    "        if char == '[EOS]': break\n",
    "        generation.append(char)\n",
    "        currenToken = next_token.unsqueeze(0).unsqueeze(0).to(device)\n",
    "\n",
    "print(''.join(generation))"
   ],
   "outputs": [],
   "execution_count": null
  },
  {
   "cell_type": "code",
   "metadata": {},
   "source": "torch.save(charRNN,'Models/charRNNnoN-gram.pt')",
   "outputs": [],
   "execution_count": null
  },
  {
   "metadata": {},
   "cell_type": "code",
   "source": [
    "\n",
    "charRNN = torch.load('Models/charRNNnoN-gram.pt', weights_only=False)\n",
    "currenToken = endecode.encode('[BOS]').to(device)\n",
    "charRNN.to(device)\n",
    "charRNN.eval()\n",
    "generations = []\n",
    "for i in range(int(5e4)):\n",
    "    generation = []\n",
    "    with torch.no_grad():\n",
    "        while True:\n",
    "            if currenToken.dim() == 2:\n",
    "                currenToken = currenToken.unsqueeze(0)\n",
    "            logits = charRNN(currenToken)\n",
    "            next_token_index = top_p_filtering(logits, p, temp)\n",
    "            next_token = torch.zeros(vocab_size)\n",
    "            next_token[next_token_index] = 1\n",
    "            char = endecode.decode(next_token)\n",
    "            if char == '[EOS]': break\n",
    "            generation.append(char)\n",
    "            currenToken = next_token.unsqueeze(0).unsqueeze(0).to(device)\n",
    "\n",
    "    generations.append(''.join(generation))"
   ],
   "outputs": [],
   "execution_count": null
  }
 ],
 "metadata": {
  "kernelspec": {
   "display_name": "rdkitEnv",
   "language": "python",
   "name": "python3"
  },
  "language_info": {
   "codemirror_mode": {
    "name": "ipython",
    "version": 3
   },
   "file_extension": ".py",
   "mimetype": "text/x-python",
   "name": "python",
   "nbconvert_exporter": "python",
   "pygments_lexer": "ipython3",
   "version": "3.13.2"
  }
 },
 "nbformat": 4,
 "nbformat_minor": 2
}
