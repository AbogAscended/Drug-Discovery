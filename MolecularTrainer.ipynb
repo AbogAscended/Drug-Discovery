{
 "cells": [
  {
   "cell_type": "code",
   "metadata": {
    "ExecuteTime": {
     "end_time": "2025-04-17T02:31:41.550759Z",
     "start_time": "2025-04-17T02:31:40.674224Z"
    }
   },
   "source": [
    "from CharRNN import CharRNN\n",
    "import torch, torch.optim as optim, torch.nn as nn\n",
    "from torch.utils.data import DataLoader, Dataset\n",
    "from onehotencoder import onehotencoder\n",
    "import numpy as np\n",
    "device = 'cuda' if torch.cuda.is_available() else 'cpu'"
   ],
   "outputs": [
    {
     "name": "stdout",
     "output_type": "stream",
     "text": [
      "cuda\n"
     ]
    }
   ],
   "execution_count": 1
  },
  {
   "cell_type": "code",
   "metadata": {
    "ExecuteTime": {
     "end_time": "2025-04-17T02:36:38.310874Z",
     "start_time": "2025-04-17T02:36:38.309030Z"
    }
   },
   "source": [
    "#Basic one hot encoder i made to encode and decode both characters and sequences\n",
    "endecode = onehotencoder()\n",
    "#Hyperparameters\n",
    "vocab_size = onehotencoder.getVocabSize()\n",
    "hidden_dim = 150\n",
    "learning_rate = 1e-4\n",
    "num_epochs = 3\n",
    "batch_size = 256\n",
    "temp = .4\n",
    "p = .9\n",
    "eps = .001"
   ],
   "outputs": [],
   "execution_count": 16
  },
  {
   "cell_type": "code",
   "metadata": {
    "ExecuteTime": {
     "end_time": "2025-04-17T02:31:41.693088Z",
     "start_time": "2025-04-17T02:31:41.600442Z"
    }
   },
   "source": [
    "#Torch dataset because the proccessed inputs and outputs were over 60gb in size\n",
    "class SequenceDataset(Dataset):\n",
    "    def __init__(self, file_path, encoder):\n",
    "        self.file_path = file_path\n",
    "        self.encoder = encoder\n",
    "        with open(file_path, 'r') as f:\n",
    "            self.lines = f.readlines()\n",
    "\n",
    "    def __len__(self):\n",
    "        return len(self.lines)\n",
    "\n",
    "    def __getitem__(self, idx):\n",
    "        sequence = self.lines[idx].strip()\n",
    "        input_tensor = self.encoder.encode_sequence(sequence)\n",
    "        target_tensor = self.encoder.encode_sequence(sequence, targets=True)\n",
    "        return input_tensor, target_tensor\n",
    "\n",
    "#Load the dataset for working\n",
    "dataset = SequenceDataset('data/train.csv', endecode)\n",
    "dataloader = DataLoader(dataset, batch_size=batch_size, shuffle=True, num_workers= 3)"
   ],
   "outputs": [],
   "execution_count": 3
  },
  {
   "cell_type": "code",
   "metadata": {
    "ExecuteTime": {
     "end_time": "2025-04-17T02:35:09.109772Z",
     "start_time": "2025-04-17T02:31:41.698117Z"
    }
   },
   "source": [
    "#Declare RNN with vocab size, padding index, embedded dim size, hidden dim size, drop out %\n",
    "charRNN = CharRNN(vocab_size, hidden_dim).to(device)\n",
    "\n",
    "#Using basic cross entropy loss\n",
    "criterion = nn.MSELoss()\n",
    "\n",
    "#AdamW\n",
    "optimizer = optim.AdamW(charRNN.parameters(), lr=learning_rate, amsgrad=True)\n",
    "scheduler = torch.optim.lr_scheduler.ReduceLROnPlateau(optimizer,patience=3)\n",
    "\n",
    "#Typical training loop\n",
    "for epoch in range(num_epochs):\n",
    "    loss_avg = []\n",
    "    avgs = []\n",
    "    for batch_inputs, batch_targets in dataloader:\n",
    "        batch_inputs = batch_inputs.to(device)\n",
    "        batch_targets = batch_targets.to(device)\n",
    "        optimizer.zero_grad()\n",
    "        \n",
    "        logits, mu, std = charRNN(batch_inputs)\n",
    "\n",
    "        reconstruction_loss = criterion(logits, batch_targets)\n",
    "        KL_loss = 1/2 * torch.sum(torch.exp(std) + mu**2 - 1 - std)\n",
    "        partial_loss = reconstruction_loss + KL_loss\n",
    "\n",
    "        loss = partial_loss\n",
    "        loss.backward()\n",
    "\n",
    "        optimizer.step()\n",
    "        loss_avg.append(loss.item())\n",
    "    avg = torch.mean(torch.Tensor(loss_avg)).item()\n",
    "    if len(avgs) >= 5:\n",
    "        count = sum(np.abs(avg / a - 1) < 0.01 for a in avgs)\n",
    "        if count == 5:\n",
    "            print('Early Stopping Triggered!')\n",
    "            break \n",
    "        avgs.pop(0)\n",
    "        avgs.append(avg)\n",
    "    else:\n",
    "        avgs.append(avg)\n",
    "    scheduler.step(avg)\n",
    "    print(f\"Epoch {epoch + 1}/{num_epochs}, Loss: {avg}\")"
   ],
   "outputs": [
    {
     "name": "stdout",
     "output_type": "stream",
     "text": [
      "Epoch 1/3, Loss: 15.391157150268555\n",
      "Epoch 2/3, Loss: 0.06978435069322586\n",
      "Epoch 3/3, Loss: 0.04391590878367424\n"
     ]
    }
   ],
   "execution_count": 4
  },
  {
   "cell_type": "code",
   "metadata": {
    "ExecuteTime": {
     "end_time": "2025-04-17T02:35:59.930083Z",
     "start_time": "2025-04-17T02:35:59.927683Z"
    }
   },
   "source": [
    "#This is a bit wonky as its turning the output into a probability distribution and then takes the smallest group of logits to add up to the probability of top_p then samples those\n",
    "def top_p_filtering(logits, top_p, temp):\n",
    "    probs = nn.functional.softmax(logits.squeeze(0)[-1] / temp, dim=0)\n",
    "    sorted_probs, sorted_indices = torch.sort(probs, descending=True)\n",
    "    cumulative_probs = torch.cumsum(sorted_probs, dim=0) \n",
    "    sorted_indices_to_remove = cumulative_probs > top_p\n",
    "    sorted_indices_to_remove[1:] = sorted_indices_to_remove[:-1].clone()\n",
    "    sorted_indices_to_remove[0] = False\n",
    "    indices_to_remove = sorted_indices_to_remove.scatter(0, sorted_indices, sorted_indices_to_remove)\n",
    "    filtered_probs = probs.masked_fill(indices_to_remove, 0).clone()\n",
    "    filtered_probs = filtered_probs / filtered_probs.sum()\n",
    "    next_token_idx = torch.multinomial(filtered_probs, 1).item()\n",
    "    return next_token_idx"
   ],
   "outputs": [],
   "execution_count": 9
  },
  {
   "cell_type": "code",
   "metadata": {
    "ExecuteTime": {
     "end_time": "2025-04-17T02:36:55.589739Z",
     "start_time": "2025-04-17T02:36:55.525573Z"
    }
   },
   "source": [
    "#Inputs the start token then does top p sampling until it generates the stop token[EOS] to it hits 200 characters whatever comes first.\n",
    "currenToken = endecode.encode('[BOS]').to(device)\n",
    "charRNN.to(device)\n",
    "charRNN.eval()\n",
    "generation = []\n",
    "with torch.no_grad():\n",
    "    while True:\n",
    "        if currenToken.dim() == 2:\n",
    "            currenToken = currenToken.unsqueeze(0)\n",
    "        logits = charRNN(currenToken)\n",
    "        next_token_index = top_p_filtering(logits, p, temp)\n",
    "        next_token = torch.zeros(vocab_size)\n",
    "        next_token[next_token_index] = 1\n",
    "        char = endecode.decode(next_token)\n",
    "        if char == '[EOS]': break\n",
    "        generation.append(char)\n",
    "        currenToken = next_token.unsqueeze(0).unsqueeze(0).to(device)\n",
    "\n",
    "print(''.join(generation))"
   ],
   "outputs": [
    {
     "name": "stdout",
     "output_type": "stream",
     "text": [
      "]Br([BOS]n[UNK]Oso63O(Br3ClC5c4BrOC))2]o[UNK])s#52Hn(F]F4[2C[UNK]sCl)nC-C-=[PAD]C)C=NCl]NF3F4(2n354]c6c[UNK]sCl6[Cc3CFs[\n"
     ]
    }
   ],
   "execution_count": 21
  },
  {
   "cell_type": "code",
   "metadata": {
    "ExecuteTime": {
     "end_time": "2025-04-17T02:37:09.452277Z",
     "start_time": "2025-04-17T02:37:09.412600Z"
    }
   },
   "source": [
    "torch.save(charRNN,'Models/charRNN.pt')"
   ],
   "outputs": [],
   "execution_count": 22
  },
  {
   "metadata": {},
   "cell_type": "code",
   "outputs": [],
   "execution_count": null,
   "source": [
    "generations = []\n",
    "for i in range(1e6):\n",
    "    currenToken = endecode.encode('[BOS]').to(device)\n",
    "    charRNN.to(device)\n",
    "    charRNN.eval()\n",
    "    generation = []\n",
    "    with torch.no_grad():\n",
    "        while True:\n",
    "            if currenToken.dim() == 2:\n",
    "                currenToken = currenToken.unsqueeze(0)\n",
    "            logits = charRNN(currenToken)\n",
    "            next_token_index = top_p_filtering(logits, p, temp)\n",
    "            next_token = torch.zeros(vocab_size)\n",
    "            next_token[next_token_index] = 1\n",
    "            char = endecode.decode(next_token)\n",
    "            if char == '[EOS]': break\n",
    "            generation.append(char)\n",
    "            currenToken = next_token.unsqueeze(0).unsqueeze(0).to(device)\n",
    "\n",
    "    generations.append(''.join(generation))"
   ]
  }
 ],
 "metadata": {
  "kernelspec": {
   "display_name": "rdkitEnv",
   "language": "python",
   "name": "python3"
  },
  "language_info": {
   "codemirror_mode": {
    "name": "ipython",
    "version": 3
   },
   "file_extension": ".py",
   "mimetype": "text/x-python",
   "name": "python",
   "nbconvert_exporter": "python",
   "pygments_lexer": "ipython3",
   "version": "3.13.2"
  }
 },
 "nbformat": 4,
 "nbformat_minor": 2
}
