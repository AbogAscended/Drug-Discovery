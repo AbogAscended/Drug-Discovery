{
 "cells": [
  {
   "cell_type": "code",
   "execution_count": null,
   "metadata": {},
   "outputs": [],
   "source": [
    "from CharRNN import CharRNN\n",
    "import torch, torch.optim as optim, torch.nn as nn\n",
    "from torch.utils.data import DataLoader, TensorDataset, Dataset\n",
    "from transformers import PreTrainedTokenizerFast\n",
    "from onehotencoder import onehotencoder\n",
    "device = 'cuda' if torch.cuda.is_available() else 'cpu'"
   ]
  },
  {
   "cell_type": "code",
   "execution_count": null,
   "metadata": {},
   "outputs": [],
   "source": [
    "vocab_size = 50\n",
    "embedded_dim = 768\n",
    "hidden_dim = 768\n",
    "num_layers = 3\n",
    "dropout = .2\n",
    "learning_rate = 0.001\n",
    "num_epochs = 10\n",
    "batch_size = 64"
   ]
  },
  {
   "cell_type": "code",
   "execution_count": null,
   "metadata": {},
   "outputs": [],
   "source": [
    "endecode = onehotencoder()\n",
    "\n",
    "class SequenceDataset(Dataset):\n",
    "    def __init__(self, file_path, encoder):\n",
    "        self.file_path = file_path\n",
    "        self.encoder = encoder\n",
    "        with open(file_path, 'r') as f:\n",
    "            self.lines = f.readlines()\n",
    "\n",
    "    def __len__(self):\n",
    "        return len(self.lines)\n",
    "\n",
    "    def __getitem__(self, idx):\n",
    "        sequence = self.lines[idx].strip()\n",
    "        input_tensor = self.encoder.encode_sequence(sequence)\n",
    "        target_tensor = self.encoder.encode_sequence(sequence, targets=True)\n",
    "        return input_tensor, target_tensor\n",
    "\n",
    "dataset = SequenceDataset('data/train.csv', endecode)\n",
    "dataloader = DataLoader(dataset, batch_size=128, shuffle=True, num_workers= 12)"
   ]
  },
  {
   "cell_type": "code",
   "execution_count": null,
   "metadata": {},
   "outputs": [],
   "source": [
    "charRNN = CharRNN(\n",
    "    vocab_size,\n",
    "    embedded_dim,\n",
    "    hidden_dim,\n",
    "    num_layers,\n",
    "    dropout,\n",
    ").to(device)\n",
    "\n",
    "criterion = nn.CrossEntropyLoss()\n",
    "optimizer = optim.AdamW(charRNN.parameters(), lr=learning_rate)\n",
    "\n",
    "for epoch in range(num_epochs):\n",
    "    for batch_inputs, batch_targets in dataloader:\n",
    "        batch_inputs = batch_inputs.to(device)\n",
    "        batch_targets = batch_targets.to(device)\n",
    "        \n",
    "        logits = charRNN(batch_inputs)\n",
    "\n",
    "        targets_flat = torch.argmax(batch_targets, dim=2).reshape(-1)\n",
    "        logits_flat = logits.reshape(batch_inputs.size(0) * batch_inputs.size(1), -1)\n",
    "        \n",
    "        loss = criterion(logits_flat, targets_flat)\n",
    "        optimizer.step()\n",
    "\n",
    "    print(f\"Epoch {epoch + 1}/{num_epochs}, Loss: {loss.item()}\")"
   ]
  },
  {
   "cell_type": "code",
   "execution_count": null,
   "metadata": {},
   "outputs": [],
   "source": [
    "currenToken = endecode.encode('[BOS]').to(device)\n",
    "charRNN.eval()\n",
    "generation = []\n",
    "with torch.no_grad():\n",
    "    for i in range(vocab_size):\n",
    "        if currenToken.dim() == 2:\n",
    "            currenToken = currenToken.unsqueeze(0) \n",
    "        logits = charRNN(currenToken)\n",
    "        probs = nn.functional.softmax(logits.squeeze(0)[-1], dim=0)\n",
    "        p = 0.9\n",
    "        sorted_probs, sorted_indices = torch.sort(probs, descending=True)\n",
    "        cumulative_probs = torch.cumsum(sorted_probs, dim=0)\n",
    "        sorted_indices_to_remove = cumulative_probs > p\n",
    "        sorted_indices_to_remove[1:] = sorted_indices_to_remove[:-1].clone()\n",
    "        sorted_indices_to_remove[0] = False\n",
    "        indices_to_remove = sorted_indices_to_remove.scatter(0, sorted_indices, sorted_indices_to_remove)\n",
    "        filtered_probs = probs.masked_fill(indices_to_remove, 0).clone()\n",
    "        filtered_probs = filtered_probs / filtered_probs.sum()\n",
    "        next_token_index = torch.multinomial(filtered_probs, 1).item()\n",
    "        next_token = torch.zeros(vocab_size)\n",
    "        next_token[next_token_index] = 1\n",
    "        char = endecode.decode(next_token)\n",
    "        if next_token_index == endecode.encode('[EOS]').argmax().item():\n",
    "            break\n",
    "        generation.append(char)\n",
    "        currenToken = next_token.unsqueeze(0).unsqueeze(0).to(device)\n",
    "\n",
    "print(''.join(generation))"
   ]
  },
  {
   "cell_type": "code",
   "execution_count": null,
   "metadata": {},
   "outputs": [],
   "source": []
  }
 ],
 "metadata": {
  "kernelspec": {
   "display_name": "rdkitEnv",
   "language": "python",
   "name": "python3"
  },
  "language_info": {
   "codemirror_mode": {
    "name": "ipython",
    "version": 3
   },
   "file_extension": ".py",
   "mimetype": "text/x-python",
   "name": "python",
   "nbconvert_exporter": "python",
   "pygments_lexer": "ipython3",
   "version": "3.13.2"
  }
 },
 "nbformat": 4,
 "nbformat_minor": 2
}
