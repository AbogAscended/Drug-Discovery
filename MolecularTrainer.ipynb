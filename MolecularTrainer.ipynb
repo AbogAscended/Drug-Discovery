{
 "cells": [
  {
   "cell_type": "code",
   "execution_count": 1,
   "metadata": {},
   "outputs": [],
   "source": [
    "from CharRNN import CharRNN\n",
    "import torch, torch.optim as optim, torch.nn as nn\n",
    "from torch.utils.data import DataLoader, Dataset\n",
    "from onehotencoder import onehotencoder\n",
    "import numpy as np\n",
    "from lossTerm import lossTerm\n",
    "device = 'cuda' if torch.cuda.is_available() else 'cpu'"
   ]
  },
  {
   "cell_type": "code",
   "execution_count": 10,
   "metadata": {},
   "outputs": [],
   "source": [
    "#Basic one hot encoder i made to encode and decode both characters and sequences\n",
    "endecode = onehotencoder()\n",
    "#Hyperparameters\n",
    "vocab_size = endecode.getVocabSize()\n",
    "embedded_dim = 200\n",
    "hidden_dim = 768\n",
    "num_layers = 3\n",
    "dropout = .2\n",
    "learning_rate = 1e-3\n",
    "num_epochs = 100\n",
    "batch_size = 256\n",
    "molecule_size = 200\n",
    "temp = .4\n",
    "p = .9\n",
    "eps = .001\n",
    "#Loss Term Values\n",
    "# Value added for failing sanitization # invalid molecule\n",
    "fail_sanitize = 0.5\n",
    "# Value added for too many duplicates of a character in a sequence\n",
    "too_many_duplicates = 0.2\n",
    "# Value added for invalid characters like '[UNK]\n",
    "wrong_value = 0.2\n",
    "# Value added for each swap that fails to sanitize\n",
    "fail_swaps = 0.1"
   ]
  },
  {
   "cell_type": "code",
   "execution_count": 11,
   "metadata": {},
   "outputs": [],
   "source": [
    "#Torch dataset because the proccessed inputs and outputs were over 60gb in size\n",
    "class SequenceDataset(Dataset):\n",
    "    def __init__(self, file_path, encoder):\n",
    "        self.file_path = file_path\n",
    "        self.encoder = encoder\n",
    "        with open(file_path, 'r') as f:\n",
    "            self.lines = f.readlines()\n",
    "\n",
    "    def __len__(self):\n",
    "        return len(self.lines)\n",
    "\n",
    "    def __getitem__(self, idx):\n",
    "        sequence = self.lines[idx].strip()\n",
    "        input_tensor = self.encoder.encode_sequence(sequence)\n",
    "        target_tensor = self.encoder.encode_sequence(sequence, targets=True)\n",
    "        return input_tensor, target_tensor\n",
    "\n",
    "#Load the dataset for working\n",
    "dataset = SequenceDataset('data/train.csv', endecode)\n",
    "dataloader = DataLoader(dataset, batch_size=batch_size, shuffle=True, num_workers= 3)"
   ]
  },
  {
   "cell_type": "code",
   "execution_count": null,
   "metadata": {},
   "outputs": [],
   "source": [
    "#Declare RNN with vocab size, padding index, embedded dim size, hidden dim size, drop out %\n",
    "charRNN = CharRNN(\n",
    "    vocab_size,\n",
    "    torch.argmax(endecode.encode('[PAD]')).item(),\n",
    "    embedded_dim,\n",
    "    hidden_dim,\n",
    "    num_layers,\n",
    "    dropout,\n",
    ").to(device)\n",
    "\n",
    "#Using basic cross entropy loss\n",
    "criterion = nn.CrossEntropyLoss()\n",
    "\n",
    "#AdamW\n",
    "optimizer = optim.AdamW(charRNN.parameters(), lr=learning_rate)\n",
    "scheduler = torch.optim.lr_scheduler.ReduceLROnPlateau(optimizer,patience=3)\n",
    "\n",
    "#Typical training loop\n",
    "for epoch in range(num_epochs):\n",
    "    loss_avg = []\n",
    "    avgs = []\n",
    "    for batch_inputs, batch_targets in dataloader:\n",
    "        batch_inputs = batch_inputs.to(device)\n",
    "        batch_targets = batch_targets.to(device)\n",
    "        optimizer.zero_grad()\n",
    "        \n",
    "        logits = charRNN(batch_inputs)\n",
    "\n",
    "        targets_flat = torch.argmax(batch_targets, dim=2).reshape(-1)\n",
    "        logits_flat = logits.reshape(batch_inputs.size(0) * batch_inputs.size(1), -1)\n",
    "        \n",
    "        loss = criterion(logits_flat, targets_flat) + lossTerm(logits, batch_size, fail_sanitize, too_many_duplicates, wrong_value, fail_swaps).losses()\n",
    "        loss.backward()\n",
    "        optimizer.step()\n",
    "        loss_avg.append(loss.item())\n",
    "    avg = torch.mean(torch.Tensor(loss_avg)).item()\n",
    "    if len(avgs) >= 5:\n",
    "        count = sum(np.abs(avg / a - 1) < 0.01 for a in avgs)\n",
    "        if count == 5:\n",
    "            print('Early Stopping Triggered!')\n",
    "            break \n",
    "        avgs.pop(0)\n",
    "        avgs.append(avg)\n",
    "    else:\n",
    "        avgs.append(avg)\n",
    "    scheduler.step(avg)\n",
    "    print(f\"Epoch {epoch + 1}/{num_epochs}, Loss: {avg}\")"
   ]
  },
  {
   "cell_type": "code",
   "execution_count": 5,
   "metadata": {},
   "outputs": [],
   "source": [
    "#This is a bit wonky as its turning the output into a probability distribution and then takes the smallest group of logits to add up to the probability of top_p then samples those\n",
    "def top_p_filtering(logits, top_p, temp):\n",
    "    probs = nn.functional.softmax(logits.squeeze(0)[-1] / temp, dim=0)\n",
    "    sorted_probs, sorted_indices = torch.sort(probs, descending=True)\n",
    "    cumulative_probs = torch.cumsum(sorted_probs, dim=0) \n",
    "    sorted_indices_to_remove = cumulative_probs > top_p\n",
    "    sorted_indices_to_remove[1:] = sorted_indices_to_remove[:-1].clone()\n",
    "    sorted_indices_to_remove[0] = False\n",
    "    indices_to_remove = sorted_indices_to_remove.scatter(0, sorted_indices, sorted_indices_to_remove)\n",
    "    filtered_probs = probs.masked_fill(indices_to_remove, 0).clone()\n",
    "    filtered_probs = filtered_probs / filtered_probs.sum()\n",
    "    next_token_index = torch.multinomial(filtered_probs, 1).item()\n",
    "    return next_token_index"
   ]
  },
  {
   "cell_type": "code",
   "execution_count": 6,
   "metadata": {},
   "outputs": [
    {
     "ename": "NameError",
     "evalue": "name 'charRNN' is not defined",
     "output_type": "error",
     "traceback": [
      "\u001b[31m---------------------------------------------------------------------------\u001b[39m",
      "\u001b[31mNameError\u001b[39m                                 Traceback (most recent call last)",
      "\u001b[36mCell\u001b[39m\u001b[36m \u001b[39m\u001b[32mIn[6]\u001b[39m\u001b[32m, line 3\u001b[39m\n\u001b[32m      1\u001b[39m \u001b[38;5;66;03m#Inputs the start token then does top p sampling until it generates the stop token[EOS] to it hits 200 characters whatever comes first.\u001b[39;00m\n\u001b[32m      2\u001b[39m currenToken = endecode.encode(\u001b[33m'\u001b[39m\u001b[33m[BOS]\u001b[39m\u001b[33m'\u001b[39m).to(device)\n\u001b[32m----> \u001b[39m\u001b[32m3\u001b[39m \u001b[43mcharRNN\u001b[49m.to(device)\n\u001b[32m      4\u001b[39m charRNN.eval()\n\u001b[32m      5\u001b[39m generation = []\n",
      "\u001b[31mNameError\u001b[39m: name 'charRNN' is not defined"
     ]
    }
   ],
   "source": [
    "#Inputs the start token then does top p sampling until it generates the stop token[EOS] to it hits 200 characters whatever comes first.\n",
    "currenToken = endecode.encode('[BOS]').to(device)\n",
    "charRNN.to(device)\n",
    "charRNN.eval()\n",
    "generation = []\n",
    "with torch.no_grad():\n",
    "    for i in range(200):\n",
    "        if currenToken.dim() == 2:\n",
    "            currenToken = currenToken.unsqueeze(0)\n",
    "        logits = charRNN(currenToken)\n",
    "        next_token_index = top_p_filtering(logits, p, temp)\n",
    "        next_token = torch.zeros(vocab_size)\n",
    "        next_token[next_token_index] = 1\n",
    "        char = endecode.decode(next_token)\n",
    "        if next_token_index == endecode.encode('[EOS]').argmax().item():\n",
    "            break\n",
    "        generation.append(char)\n",
    "        currenToken = next_token.unsqueeze(0).unsqueeze(0).to(device)\n",
    "\n",
    "print(''.join(generation))"
   ]
  },
  {
   "cell_type": "code",
   "execution_count": 7,
   "metadata": {},
   "outputs": [
    {
     "ename": "NameError",
     "evalue": "name 'charRNN' is not defined",
     "output_type": "error",
     "traceback": [
      "\u001b[31m---------------------------------------------------------------------------\u001b[39m",
      "\u001b[31mNameError\u001b[39m                                 Traceback (most recent call last)",
      "\u001b[36mCell\u001b[39m\u001b[36m \u001b[39m\u001b[32mIn[7]\u001b[39m\u001b[32m, line 1\u001b[39m\n\u001b[32m----> \u001b[39m\u001b[32m1\u001b[39m torch.save(\u001b[43mcharRNN\u001b[49m,\u001b[33m'\u001b[39m\u001b[33mModels/charRNN.pt\u001b[39m\u001b[33m'\u001b[39m)\n",
      "\u001b[31mNameError\u001b[39m: name 'charRNN' is not defined"
     ]
    }
   ],
   "source": [
    "torch.save(charRNN,'Models/charRNN.pt')"
   ]
  }
 ],
 "metadata": {
  "kernelspec": {
   "display_name": "my-rdkit-env",
   "language": "python",
   "name": "python3"
  },
  "language_info": {
   "codemirror_mode": {
    "name": "ipython",
    "version": 3
   },
   "file_extension": ".py",
   "mimetype": "text/x-python",
   "name": "python",
   "nbconvert_exporter": "python",
   "pygments_lexer": "ipython3",
   "version": "3.13.2"
  }
 },
 "nbformat": 4,
 "nbformat_minor": 2
}
