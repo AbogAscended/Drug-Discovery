{
 "cells": [
  {
   "cell_type": "code",
   "execution_count": 1,
   "metadata": {},
   "outputs": [],
   "source": [
    "from CharRNN import CharRNN\n",
    "import torch, torch.optim as optim, torch.nn as nn\n",
    "from torch.utils.data import DataLoader, TensorDataset, Dataset\n",
    "from transformers import PreTrainedTokenizerFast\n",
    "from onehotencoder import onehotencoder\n",
    "device = 'cuda' if torch.cuda.is_available() else 'cpu'"
   ]
  },
  {
   "cell_type": "code",
   "execution_count": 2,
   "metadata": {},
   "outputs": [],
   "source": [
    "vocab_size = 59\n",
    "embedded_dim = 128\n",
    "hidden_dim = 768\n",
    "num_layers = 3\n",
    "dropout = .2\n",
    "learning_rate = 0.001\n",
    "num_epochs = 10\n",
    "batch_size = 64"
   ]
  },
  {
   "cell_type": "code",
   "execution_count": 3,
   "metadata": {},
   "outputs": [],
   "source": [
    "endecode = onehotencoder()\n",
    "\n",
    "class SequenceDataset(Dataset):\n",
    "    def __init__(self, file_path, encoder):\n",
    "        self.file_path = file_path\n",
    "        self.encoder = encoder\n",
    "        with open(file_path, 'r') as f:\n",
    "            self.lines = f.readlines()\n",
    "\n",
    "    def __len__(self):\n",
    "        return len(self.lines)\n",
    "\n",
    "    def __getitem__(self, idx):\n",
    "        sequence = self.lines[idx].strip()\n",
    "        input_tensor = self.encoder.encode_sequence(sequence)\n",
    "        target_tensor = self.encoder.encode_sequence(sequence, targets=True)\n",
    "        return input_tensor, target_tensor\n",
    "\n",
    "dataset = SequenceDataset('data/train.csv', endecode)\n",
    "dataloader = DataLoader(dataset, batch_size=128, shuffle=True)"
   ]
  },
  {
   "cell_type": "code",
   "execution_count": 4,
   "metadata": {},
   "outputs": [
    {
     "ename": "AttributeError",
     "evalue": "'int' object has no attribute 'pad'",
     "output_type": "error",
     "traceback": [
      "\u001b[31m---------------------------------------------------------------------------\u001b[39m",
      "\u001b[31mAttributeError\u001b[39m                            Traceback (most recent call last)",
      "\u001b[36mCell\u001b[39m\u001b[36m \u001b[39m\u001b[32mIn[4]\u001b[39m\u001b[32m, line 1\u001b[39m\n\u001b[32m----> \u001b[39m\u001b[32m1\u001b[39m charRNN = \u001b[43mCharRNN\u001b[49m\u001b[43m(\u001b[49m\n\u001b[32m      2\u001b[39m \u001b[43m    \u001b[49m\u001b[43mvocab_size\u001b[49m\u001b[43m,\u001b[49m\n\u001b[32m      3\u001b[39m \u001b[43m    \u001b[49m\u001b[43membedded_dim\u001b[49m\u001b[43m,\u001b[49m\n\u001b[32m      4\u001b[39m \u001b[43m    \u001b[49m\u001b[43mhidden_dim\u001b[49m\u001b[43m,\u001b[49m\n\u001b[32m      5\u001b[39m \u001b[43m    \u001b[49m\u001b[43mnum_layers\u001b[49m\u001b[43m,\u001b[49m\n\u001b[32m      6\u001b[39m \u001b[43m    \u001b[49m\u001b[43mdropout\u001b[49m\u001b[43m,\u001b[49m\n\u001b[32m      7\u001b[39m \u001b[43m)\u001b[49m.to(device)\n\u001b[32m      9\u001b[39m criterion = nn.CrossEntropyLoss()\n\u001b[32m     10\u001b[39m optimizer = optim.Adam(charRNN.parameters(), lr=learning_rate)\n",
      "\u001b[36mFile \u001b[39m\u001b[32m~/Projects/Drug-Discovery/CharRNN.py:19\u001b[39m, in \u001b[36mCharRNN.__init__\u001b[39m\u001b[34m(self, vocabulary, embedded_dim, hidden_size, num_layers, dropout)\u001b[39m\n\u001b[32m     15\u001b[39m \u001b[38;5;28mself\u001b[39m.dropout = dropout\n\u001b[32m     16\u001b[39m \u001b[38;5;28mself\u001b[39m.vocab_size = \u001b[38;5;28mself\u001b[39m.input_size = \u001b[38;5;28mself\u001b[39m.output_size = \u001b[38;5;28mself\u001b[39m.vocabulary\n\u001b[32m     18\u001b[39m \u001b[38;5;28mself\u001b[39m.embedding_layer = nn.Embedding(\u001b[38;5;28mself\u001b[39m.vocab_size, \u001b[38;5;28mself\u001b[39m.embbeded_dim,\n\u001b[32m---> \u001b[39m\u001b[32m19\u001b[39m                                     padding_idx=\u001b[43mvocabulary\u001b[49m\u001b[43m.\u001b[49m\u001b[43mpad\u001b[49m)\n\u001b[32m     20\u001b[39m \u001b[38;5;28mself\u001b[39m.lstm_layer = nn.LSTM(\u001b[38;5;28mself\u001b[39m.input_size, \u001b[38;5;28mself\u001b[39m.hidden_size,\n\u001b[32m     21\u001b[39m                           \u001b[38;5;28mself\u001b[39m.num_layers, dropout=\u001b[38;5;28mself\u001b[39m.dropout,\n\u001b[32m     22\u001b[39m                           batch_first=\u001b[38;5;28;01mTrue\u001b[39;00m)\n\u001b[32m     23\u001b[39m \u001b[38;5;28mself\u001b[39m.linear_layer = nn.Linear(\u001b[38;5;28mself\u001b[39m.hidden_size, \u001b[38;5;28mself\u001b[39m.output_size)\n",
      "\u001b[31mAttributeError\u001b[39m: 'int' object has no attribute 'pad'"
     ]
    }
   ],
   "source": [
    "charRNN = CharRNN(\n",
    "    vocab_size,\n",
    "    embedded_dim,\n",
    "    hidden_dim,\n",
    "    num_layers,\n",
    "    dropout,\n",
    ").to(device)\n",
    "\n",
    "criterion = nn.CrossEntropyLoss()\n",
    "optimizer = optim.Adam(charRNN.parameters(), lr=learning_rate)\n",
    "\n",
    "for epoch in range(num_epochs):\n",
    "    for batch_inputs, batch_targets in dataloader:\n",
    "        batch_inputs = batch_inputs.to(device)\n",
    "        batch_targets = batch_targets.to(device)\n",
    "\n",
    "        logits, _ = charRNN(batch_inputs)\n",
    "        loss = criterion(logits.view(-1, vocab_size), batch_targets.view(-1))\n",
    "\n",
    "        optimizer.zero_grad()\n",
    "        loss.backward()\n",
    "        optimizer.step()\n",
    "\n",
    "    print(f\"Epoch {epoch + 1}/{num_epochs}, Loss: {loss.item()}\")"
   ]
  }
 ],
 "metadata": {
  "kernelspec": {
   "display_name": "rdkitEnv",
   "language": "python",
   "name": "python3"
  },
  "language_info": {
   "codemirror_mode": {
    "name": "ipython",
    "version": 3
   },
   "file_extension": ".py",
   "mimetype": "text/x-python",
   "name": "python",
   "nbconvert_exporter": "python",
   "pygments_lexer": "ipython3",
   "version": "3.13.2"
  }
 },
 "nbformat": 4,
 "nbformat_minor": 2
}
