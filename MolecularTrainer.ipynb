{
 "cells": [
  {
   "cell_type": "code",
   "metadata": {
    "ExecuteTime": {
     "end_time": "2025-04-21T04:24:30.986823Z",
     "start_time": "2025-04-21T04:24:30.136392Z"
    }
   },
   "source": [
    "from CharRNN import CharRNN\n",
    "import torch, torch.optim as optim, torch.nn as nn\n",
    "from torch.utils.data import DataLoader, Dataset\n",
    "from onehotencoder import OneHotEncoder\n",
    "import numpy as np\n",
    "device = 'cuda' if torch.cuda.is_available() else 'cpu'"
   ],
   "outputs": [],
   "execution_count": 1
  },
  {
   "cell_type": "code",
   "metadata": {
    "ExecuteTime": {
     "end_time": "2025-04-21T04:24:31.032467Z",
     "start_time": "2025-04-21T04:24:31.030952Z"
    }
   },
   "source": [
    "#Basic one hot encoder i made to encode and decode both characters and sequences\n",
    "endecode = OneHotEncoder()\n",
    "#Hyperparameters\n",
    "vocab_size = OneHotEncoder.get_vocab_size(self = endecode)\n",
    "hidden_dim = 768\n",
    "n_gram = 1\n",
    "learning_rate = 1e-6\n",
    "num_epochs = 15\n",
    "batch_size = 256\n",
    "temp = 1\n",
    "p = .95\n",
    "eps = .001"
   ],
   "outputs": [],
   "execution_count": 2
  },
  {
   "metadata": {
    "ExecuteTime": {
     "end_time": "2025-04-21T04:24:31.166860Z",
     "start_time": "2025-04-21T04:24:31.075873Z"
    }
   },
   "cell_type": "code",
   "source": [
    "#Torch dataset because the processed inputs and outputs were over 60 gb in size\n",
    "\n",
    "class SequenceDataset(Dataset):\n",
    "    def __init__(self, file_path, encoder, n_gram = 1):\n",
    "        self.n_gram = n_gram\n",
    "        self.file_path = file_path\n",
    "        self.encoder = encoder\n",
    "        with open(file_path, 'r') as f:\n",
    "            self.lines = f.readlines()\n",
    "    def __len__(self):\n",
    "        return len(self.lines)\n",
    "\n",
    "    def __getitem__(self, idx):\n",
    "        input_tensors = []\n",
    "        target_tensors = []\n",
    "        sequence = self.lines[idx].strip()\n",
    "        sequence_input = self.encoder.encode_sequence(sequence)\n",
    "        sequence_target = self.encoder.encode_sequence(sequence,targets = True)\n",
    "        pad = self.encoder.encode('[PAD]').view(1,-1)\n",
    "        length = sequence_input.shape[0]\n",
    "        for i in range(length):\n",
    "            if self.n_gram == 1:\n",
    "                if length - (i + 1) < self.n_gram:\n",
    "                    padding = pad.repeat(self.n_gram - length + i + 1,1)\n",
    "                    if i == length - 1:\n",
    "                        input_tensors.append(torch.cat([sequence_input[i:length-1,:],padding],dim=0))\n",
    "                        target_tensors.append(padding)\n",
    "                    else:\n",
    "                        input_tensors.append(torch.cat([sequence_input[i:length-1,:],padding],dim=0))\n",
    "                        target_tensors.append(torch.cat([sequence_target[i+1:length-1,:], padding],dim=0))\n",
    "                else:\n",
    "                    input_tensors.append(sequence_input[i:i+self.n_gram,:])\n",
    "                    target_tensors.append(sequence_target[i+1:i+self.n_gram+1,:])\n",
    "            else:\n",
    "                if length - i - 1 < self.n_gram:\n",
    "                    padding = pad.repeat(self.n_gram - length + i + 1,1)\n",
    "                    if i == length - 1:\n",
    "                        input_tensors.append(torch.cat([sequence_input[i:length-1,:],padding],dim=0))\n",
    "                        target_tensors.append(padding)\n",
    "                    else:\n",
    "                        input_tensors.append(torch.cat([sequence_input[i:length-1,:],padding],dim=0))\n",
    "                        target_tensors.append(torch.cat([sequence_target[i+1:length-1,:],padding],dim=0))\n",
    "                else:\n",
    "                    input_tensors.append(sequence_input[i:i+self.n_gram,:])\n",
    "                    target_tensors.append(sequence_target[i+1:i+self.n_gram+1,:])\n",
    "        input_stack = torch.stack(input_tensors)\n",
    "        target_stack = torch.stack(target_tensors)\n",
    "        return input_stack, target_stack\n",
    "\n",
    "#Load the dataset for working\n",
    "dataset = SequenceDataset('data/train.csv', endecode)\n",
    "dataloader = DataLoader(dataset, batch_size=batch_size, shuffle=True, num_workers= 3)"
   ],
   "outputs": [],
   "execution_count": 3
  },
  {
   "cell_type": "code",
   "metadata": {
    "ExecuteTime": {
     "end_time": "2025-04-21T04:24:32.099325Z",
     "start_time": "2025-04-21T04:24:31.171729Z"
    }
   },
   "source": [
    "#Declare RNN with vocab size, hidden dim size\n",
    "charRNN = CharRNN(vocab_size, hidden_dim).to(device)\n",
    "\n",
    "#Using basic cross entropy loss\n",
    "criterion = nn.MSELoss(reduction='mean')\n",
    "\n",
    "#AdamW\n",
    "optimizer = optim.AdamW(charRNN.parameters(), lr=learning_rate)\n",
    "scheduler = torch.optim.lr_scheduler.ReduceLROnPlateau(optimizer,patience=3)\n",
    "\n",
    "#Typical training loop\n",
    "for epoch in range(num_epochs):\n",
    "    epoch_losses = torch.zeros(batch_size,device=device)\n",
    "\n",
    "    for idx, (batch_inputs, batch_targets) in enumerate(dataloader):\n",
    "        batch_inputs = batch_inputs\n",
    "        batch_targets = batch_targets\n",
    "        batch_size = batch_inputs.size(0)\n",
    "        sequence_losses = torch.zeros(batch_size,device=device)\n",
    "\n",
    "        for b in range(batch_size):\n",
    "            sequence_inputs = batch_inputs[b].to(device)\n",
    "            sequence_targets = batch_targets[b].to(device)\n",
    "\n",
    "            optimizer.zero_grad()\n",
    "\n",
    "            hidden = charRNN.init_hidden(1).to(device)\n",
    "\n",
    "            sequence_loss = torch.zeros(len(sequence_inputs), device=device)\n",
    "            for i in range(len(sequence_inputs)):\n",
    "                ngram_input = sequence_inputs[i].unsqueeze(0)\n",
    "                ngram_target = sequence_targets[i].unsqueeze(0)\n",
    "\n",
    "                logits, mu, std, hidden = charRNN(ngram_input, hidden)\n",
    "                hidden = hidden.detach()\n",
    "\n",
    "                reconstruction_recon_loss = criterion(logits, ngram_target)\n",
    "                KL_loss = -0.5 * torch.sum(1 + torch.log(std.pow(2)) - mu.pow(2) - std.pow(2))\n",
    "\n",
    "                sequence_loss[i] = reconstruction_recon_loss + KL_loss\n",
    "\n",
    "            sequence_losses[b] = sequence_loss.sum()\n",
    "        loss = sequence_losses.mean()\n",
    "        loss.backward()\n",
    "        epoch_losses[idx] = loss.item()\n",
    "    avg_epoch_loss = epoch_losses.mean().item()\n",
    "    scheduler.step(avg_epoch_loss)\n",
    "    print(f\"Epoch {epoch + 1}/{num_epochs}, Loss: {avg_epoch_loss}\")\n"
   ],
   "outputs": [
    {
     "ename": "RuntimeError",
     "evalue": "Caught RuntimeError in DataLoader worker process 0.\nOriginal Traceback (most recent call last):\n  File \"/home/abog/PycharmProjects/Drug-Discovery/.venv/lib/python3.12/site-packages/torch/utils/data/_utils/worker.py\", line 349, in _worker_loop\n    data = fetcher.fetch(index)  # type: ignore[possibly-undefined]\n           ^^^^^^^^^^^^^^^^^^^^\n  File \"/home/abog/PycharmProjects/Drug-Discovery/.venv/lib/python3.12/site-packages/torch/utils/data/_utils/fetch.py\", line 55, in fetch\n    return self.collate_fn(data)\n           ^^^^^^^^^^^^^^^^^^^^^\n  File \"/home/abog/PycharmProjects/Drug-Discovery/.venv/lib/python3.12/site-packages/torch/utils/data/_utils/collate.py\", line 398, in default_collate\n    return collate(batch, collate_fn_map=default_collate_fn_map)\n           ^^^^^^^^^^^^^^^^^^^^^^^^^^^^^^^^^^^^^^^^^^^^^^^^^^^^^\n  File \"/home/abog/PycharmProjects/Drug-Discovery/.venv/lib/python3.12/site-packages/torch/utils/data/_utils/collate.py\", line 212, in collate\n    collate(samples, collate_fn_map=collate_fn_map)\n  File \"/home/abog/PycharmProjects/Drug-Discovery/.venv/lib/python3.12/site-packages/torch/utils/data/_utils/collate.py\", line 155, in collate\n    return collate_fn_map[elem_type](batch, collate_fn_map=collate_fn_map)\n           ^^^^^^^^^^^^^^^^^^^^^^^^^^^^^^^^^^^^^^^^^^^^^^^^^^^^^^^^^^^^^^^\n  File \"/home/abog/PycharmProjects/Drug-Discovery/.venv/lib/python3.12/site-packages/torch/utils/data/_utils/collate.py\", line 271, in collate_tensor_fn\n    out = elem.new(storage).resize_(len(batch), *list(elem.size()))\n          ^^^^^^^^^^^^^^^^^^^^^^^^^^^^^^^^^^^^^^^^^^^^^^^^^^^^^^^^^\nRuntimeError: Trying to resize storage that is not resizable\n",
     "output_type": "error",
     "traceback": [
      "\u001B[31m---------------------------------------------------------------------------\u001B[39m",
      "\u001B[31mRuntimeError\u001B[39m                              Traceback (most recent call last)",
      "\u001B[36mCell\u001B[39m\u001B[36m \u001B[39m\u001B[32mIn[4]\u001B[39m\u001B[32m, line 15\u001B[39m\n\u001B[32m     12\u001B[39m \u001B[38;5;28;01mfor\u001B[39;00m epoch \u001B[38;5;129;01min\u001B[39;00m \u001B[38;5;28mrange\u001B[39m(num_epochs):\n\u001B[32m     13\u001B[39m     epoch_losses = torch.zeros(batch_size,device=device)\n\u001B[32m---> \u001B[39m\u001B[32m15\u001B[39m \u001B[43m    \u001B[49m\u001B[38;5;28;43;01mfor\u001B[39;49;00m\u001B[43m \u001B[49m\u001B[43midx\u001B[49m\u001B[43m,\u001B[49m\u001B[43m \u001B[49m\u001B[43m(\u001B[49m\u001B[43mbatch_inputs\u001B[49m\u001B[43m,\u001B[49m\u001B[43m \u001B[49m\u001B[43mbatch_targets\u001B[49m\u001B[43m)\u001B[49m\u001B[43m \u001B[49m\u001B[38;5;129;43;01min\u001B[39;49;00m\u001B[43m \u001B[49m\u001B[38;5;28;43menumerate\u001B[39;49m\u001B[43m(\u001B[49m\u001B[43mdataloader\u001B[49m\u001B[43m)\u001B[49m\u001B[43m:\u001B[49m\n\u001B[32m     16\u001B[39m \u001B[43m        \u001B[49m\u001B[43mbatch_inputs\u001B[49m\u001B[43m \u001B[49m\u001B[43m=\u001B[49m\u001B[43m \u001B[49m\u001B[43mbatch_inputs\u001B[49m\n\u001B[32m     17\u001B[39m \u001B[43m        \u001B[49m\u001B[43mbatch_targets\u001B[49m\u001B[43m \u001B[49m\u001B[43m=\u001B[49m\u001B[43m \u001B[49m\u001B[43mbatch_targets\u001B[49m\n",
      "\u001B[36mFile \u001B[39m\u001B[32m~/PycharmProjects/Drug-Discovery/.venv/lib/python3.12/site-packages/torch/utils/data/dataloader.py:708\u001B[39m, in \u001B[36m_BaseDataLoaderIter.__next__\u001B[39m\u001B[34m(self)\u001B[39m\n\u001B[32m    705\u001B[39m \u001B[38;5;28;01mif\u001B[39;00m \u001B[38;5;28mself\u001B[39m._sampler_iter \u001B[38;5;129;01mis\u001B[39;00m \u001B[38;5;28;01mNone\u001B[39;00m:\n\u001B[32m    706\u001B[39m     \u001B[38;5;66;03m# TODO(https://github.com/pytorch/pytorch/issues/76750)\u001B[39;00m\n\u001B[32m    707\u001B[39m     \u001B[38;5;28mself\u001B[39m._reset()  \u001B[38;5;66;03m# type: ignore[call-arg]\u001B[39;00m\n\u001B[32m--> \u001B[39m\u001B[32m708\u001B[39m data = \u001B[38;5;28;43mself\u001B[39;49m\u001B[43m.\u001B[49m\u001B[43m_next_data\u001B[49m\u001B[43m(\u001B[49m\u001B[43m)\u001B[49m\n\u001B[32m    709\u001B[39m \u001B[38;5;28mself\u001B[39m._num_yielded += \u001B[32m1\u001B[39m\n\u001B[32m    710\u001B[39m \u001B[38;5;28;01mif\u001B[39;00m (\n\u001B[32m    711\u001B[39m     \u001B[38;5;28mself\u001B[39m._dataset_kind == _DatasetKind.Iterable\n\u001B[32m    712\u001B[39m     \u001B[38;5;129;01mand\u001B[39;00m \u001B[38;5;28mself\u001B[39m._IterableDataset_len_called \u001B[38;5;129;01mis\u001B[39;00m \u001B[38;5;129;01mnot\u001B[39;00m \u001B[38;5;28;01mNone\u001B[39;00m\n\u001B[32m    713\u001B[39m     \u001B[38;5;129;01mand\u001B[39;00m \u001B[38;5;28mself\u001B[39m._num_yielded > \u001B[38;5;28mself\u001B[39m._IterableDataset_len_called\n\u001B[32m    714\u001B[39m ):\n",
      "\u001B[36mFile \u001B[39m\u001B[32m~/PycharmProjects/Drug-Discovery/.venv/lib/python3.12/site-packages/torch/utils/data/dataloader.py:1480\u001B[39m, in \u001B[36m_MultiProcessingDataLoaderIter._next_data\u001B[39m\u001B[34m(self)\u001B[39m\n\u001B[32m   1478\u001B[39m \u001B[38;5;28;01mdel\u001B[39;00m \u001B[38;5;28mself\u001B[39m._task_info[idx]\n\u001B[32m   1479\u001B[39m \u001B[38;5;28mself\u001B[39m._rcvd_idx += \u001B[32m1\u001B[39m\n\u001B[32m-> \u001B[39m\u001B[32m1480\u001B[39m \u001B[38;5;28;01mreturn\u001B[39;00m \u001B[38;5;28;43mself\u001B[39;49m\u001B[43m.\u001B[49m\u001B[43m_process_data\u001B[49m\u001B[43m(\u001B[49m\u001B[43mdata\u001B[49m\u001B[43m)\u001B[49m\n",
      "\u001B[36mFile \u001B[39m\u001B[32m~/PycharmProjects/Drug-Discovery/.venv/lib/python3.12/site-packages/torch/utils/data/dataloader.py:1505\u001B[39m, in \u001B[36m_MultiProcessingDataLoaderIter._process_data\u001B[39m\u001B[34m(self, data)\u001B[39m\n\u001B[32m   1503\u001B[39m \u001B[38;5;28mself\u001B[39m._try_put_index()\n\u001B[32m   1504\u001B[39m \u001B[38;5;28;01mif\u001B[39;00m \u001B[38;5;28misinstance\u001B[39m(data, ExceptionWrapper):\n\u001B[32m-> \u001B[39m\u001B[32m1505\u001B[39m     \u001B[43mdata\u001B[49m\u001B[43m.\u001B[49m\u001B[43mreraise\u001B[49m\u001B[43m(\u001B[49m\u001B[43m)\u001B[49m\n\u001B[32m   1506\u001B[39m \u001B[38;5;28;01mreturn\u001B[39;00m data\n",
      "\u001B[36mFile \u001B[39m\u001B[32m~/PycharmProjects/Drug-Discovery/.venv/lib/python3.12/site-packages/torch/_utils.py:733\u001B[39m, in \u001B[36mExceptionWrapper.reraise\u001B[39m\u001B[34m(self)\u001B[39m\n\u001B[32m    729\u001B[39m \u001B[38;5;28;01mexcept\u001B[39;00m \u001B[38;5;167;01mTypeError\u001B[39;00m:\n\u001B[32m    730\u001B[39m     \u001B[38;5;66;03m# If the exception takes multiple arguments, don't try to\u001B[39;00m\n\u001B[32m    731\u001B[39m     \u001B[38;5;66;03m# instantiate since we don't know how to\u001B[39;00m\n\u001B[32m    732\u001B[39m     \u001B[38;5;28;01mraise\u001B[39;00m \u001B[38;5;167;01mRuntimeError\u001B[39;00m(msg) \u001B[38;5;28;01mfrom\u001B[39;00m\u001B[38;5;250m \u001B[39m\u001B[38;5;28;01mNone\u001B[39;00m\n\u001B[32m--> \u001B[39m\u001B[32m733\u001B[39m \u001B[38;5;28;01mraise\u001B[39;00m exception\n",
      "\u001B[31mRuntimeError\u001B[39m: Caught RuntimeError in DataLoader worker process 0.\nOriginal Traceback (most recent call last):\n  File \"/home/abog/PycharmProjects/Drug-Discovery/.venv/lib/python3.12/site-packages/torch/utils/data/_utils/worker.py\", line 349, in _worker_loop\n    data = fetcher.fetch(index)  # type: ignore[possibly-undefined]\n           ^^^^^^^^^^^^^^^^^^^^\n  File \"/home/abog/PycharmProjects/Drug-Discovery/.venv/lib/python3.12/site-packages/torch/utils/data/_utils/fetch.py\", line 55, in fetch\n    return self.collate_fn(data)\n           ^^^^^^^^^^^^^^^^^^^^^\n  File \"/home/abog/PycharmProjects/Drug-Discovery/.venv/lib/python3.12/site-packages/torch/utils/data/_utils/collate.py\", line 398, in default_collate\n    return collate(batch, collate_fn_map=default_collate_fn_map)\n           ^^^^^^^^^^^^^^^^^^^^^^^^^^^^^^^^^^^^^^^^^^^^^^^^^^^^^\n  File \"/home/abog/PycharmProjects/Drug-Discovery/.venv/lib/python3.12/site-packages/torch/utils/data/_utils/collate.py\", line 212, in collate\n    collate(samples, collate_fn_map=collate_fn_map)\n  File \"/home/abog/PycharmProjects/Drug-Discovery/.venv/lib/python3.12/site-packages/torch/utils/data/_utils/collate.py\", line 155, in collate\n    return collate_fn_map[elem_type](batch, collate_fn_map=collate_fn_map)\n           ^^^^^^^^^^^^^^^^^^^^^^^^^^^^^^^^^^^^^^^^^^^^^^^^^^^^^^^^^^^^^^^\n  File \"/home/abog/PycharmProjects/Drug-Discovery/.venv/lib/python3.12/site-packages/torch/utils/data/_utils/collate.py\", line 271, in collate_tensor_fn\n    out = elem.new(storage).resize_(len(batch), *list(elem.size()))\n          ^^^^^^^^^^^^^^^^^^^^^^^^^^^^^^^^^^^^^^^^^^^^^^^^^^^^^^^^^\nRuntimeError: Trying to resize storage that is not resizable\n"
     ]
    }
   ],
   "execution_count": 4
  },
  {
   "metadata": {},
   "cell_type": "markdown",
   "source": ""
  },
  {
   "cell_type": "code",
   "metadata": {},
   "source": [
    "#This is a bit wonky as its turning the output into a probability distribution and then takes the smallest group of logits to add up to the probability of top_p then samples those\n",
    "def top_p_filtering(logits_p, top_p, temp_p):\n",
    "    probs = nn.functional.softmax(logits_p.squeeze(0)[-1] / temp_p, dim=0)\n",
    "    sorted_probs, sorted_indices = torch.sort(probs, descending=True)\n",
    "    cumulative_probs = torch.cumsum(sorted_probs, dim=0) \n",
    "    sorted_indices_to_remove = cumulative_probs > top_p\n",
    "    sorted_indices_to_remove[1:] = sorted_indices_to_remove[:-1].clone()\n",
    "    sorted_indices_to_remove[0] = False\n",
    "    indices_to_remove = sorted_indices_to_remove.scatter(0, sorted_indices, sorted_indices_to_remove)\n",
    "    filtered_probs = probs.masked_fill(indices_to_remove, 0).clone()\n",
    "    filtered_probs = filtered_probs / filtered_probs.sum()\n",
    "    next_token_idx = torch.multinomial(filtered_probs, 1).item()\n",
    "    return next_token_idx"
   ],
   "outputs": [],
   "execution_count": null
  },
  {
   "cell_type": "code",
   "metadata": {},
   "source": [
    "#Inputs the start token then does top p sampling until it generates the stop token[EOS] to it hits 200 characters whatever comes first.\n",
    "currenToken = endecode.encode('[BOS]').to(device)\n",
    "charRNN.to(device)\n",
    "charRNN.eval()\n",
    "generation = []\n",
    "with torch.no_grad():\n",
    "    while True:\n",
    "        if currenToken.dim() == 2:\n",
    "            currenToken = currenToken.unsqueeze(0)\n",
    "        logits, _ , _ = charRNN(currenToken)\n",
    "        next_token_index = top_p_filtering(logits, p, temp)\n",
    "        next_token = torch.zeros(vocab_size)\n",
    "        next_token[next_token_index] = 1\n",
    "        char = endecode.decode(next_token)\n",
    "        if char == '[EOS]': break\n",
    "        generation.append(char)\n",
    "        currenToken = next_token.unsqueeze(0).unsqueeze(0).to(device)\n",
    "\n",
    "print(''.join(generation))"
   ],
   "outputs": [],
   "execution_count": null
  },
  {
   "cell_type": "code",
   "metadata": {},
   "source": "torch.save(charRNN,'Models/charRNNnoN-gram.pt')",
   "outputs": [],
   "execution_count": null
  },
  {
   "metadata": {},
   "cell_type": "code",
   "source": [
    "\n",
    "charRNN = torch.load('Models/charRNNnoN-gram.pt', weights_only=False)\n",
    "currenToken = endecode.encode('[BOS]').to(device)\n",
    "charRNN.to(device)\n",
    "charRNN.eval()\n",
    "generations = []\n",
    "for i in range(int(5e4)):\n",
    "    generation = []\n",
    "    with torch.no_grad():\n",
    "        while True:\n",
    "            if currenToken.dim() == 2:\n",
    "                currenToken = currenToken.unsqueeze(0)\n",
    "            logits = charRNN(currenToken)\n",
    "            next_token_index = top_p_filtering(logits, p, temp)\n",
    "            next_token = torch.zeros(vocab_size)\n",
    "            next_token[next_token_index] = 1\n",
    "            char = endecode.decode(next_token)\n",
    "            if char == '[EOS]': break\n",
    "            generation.append(char)\n",
    "            currenToken = next_token.unsqueeze(0).unsqueeze(0).to(device)\n",
    "\n",
    "    generations.append(''.join(generation))"
   ],
   "outputs": [],
   "execution_count": null
  },
  {
   "metadata": {},
   "cell_type": "code",
   "source": [
    "with open('GRUOnly95P.txt', 'w') as file:\n",
    "    for item in generations:\n",
    "        file.write(f\"{item}\\n\")\n"
   ],
   "outputs": [],
   "execution_count": null
  },
  {
   "metadata": {},
   "cell_type": "code",
   "source": "",
   "outputs": [],
   "execution_count": null
  }
 ],
 "metadata": {
  "kernelspec": {
   "display_name": "rdkitEnv",
   "language": "python",
   "name": "python3"
  },
  "language_info": {
   "codemirror_mode": {
    "name": "ipython",
    "version": 3
   },
   "file_extension": ".py",
   "mimetype": "text/x-python",
   "name": "python",
   "nbconvert_exporter": "python",
   "pygments_lexer": "ipython3",
   "version": "3.13.2"
  }
 },
 "nbformat": 4,
 "nbformat_minor": 2
}
