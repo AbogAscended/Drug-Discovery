{
 "cells": [
  {
   "cell_type": "code",
   "metadata": {
    "ExecuteTime": {
     "end_time": "2025-04-21T20:45:31.422751Z",
     "start_time": "2025-04-21T20:45:30.550216Z"
    }
   },
   "source": [
    "from CharRNN import CharRNN\n",
    "import torch, torch.optim as optim, torch.nn as nn\n",
    "from torch.utils.data import DataLoader, Dataset\n",
    "from onehotencoder import OneHotEncoder\n",
    "import time\n",
    "import numpy as np\n",
    "device = 'cuda' if torch.cuda.is_available() else 'cpu'"
   ],
   "outputs": [],
   "execution_count": 1
  },
  {
   "cell_type": "code",
   "metadata": {
    "ExecuteTime": {
     "end_time": "2025-04-21T20:45:31.468241Z",
     "start_time": "2025-04-21T20:45:31.466680Z"
    }
   },
   "source": [
    "#Basic one hot encoder i made to encode and decode both characters and sequences\n",
    "endecode = OneHotEncoder()\n",
    "#Hyperparameters\n",
    "vocab_size = OneHotEncoder.get_vocab_size(self = endecode)\n",
    "num_layers = 26\n",
    "n_gram = 1\n",
    "dropped_out = 0.2\n",
    "learning_rate = 1e-3\n",
    "num_epochs = 15\n",
    "batch_size = 256\n",
    "temp = 1\n",
    "p = .95\n",
    "eps = .01"
   ],
   "outputs": [],
   "execution_count": 2
  },
  {
   "metadata": {
    "ExecuteTime": {
     "end_time": "2025-04-21T20:45:31.606274Z",
     "start_time": "2025-04-21T20:45:31.509878Z"
    }
   },
   "cell_type": "code",
   "source": [
    "#Torch dataset because the processed inputs and outputs were over 60 gb in size\n",
    "\n",
    "class SequenceDataset(Dataset):\n",
    "    def __init__(self, file_path, encoder, n_gram = 1):\n",
    "        self.n_gram = n_gram\n",
    "        self.file_path = file_path\n",
    "        self.encoder = encoder\n",
    "        with open(file_path, 'r') as f:\n",
    "            self.lines = f.readlines()\n",
    "    def __len__(self):\n",
    "        return len(self.lines)\n",
    "\n",
    "    def __getitem__(self, idx):\n",
    "        input_tensors = []\n",
    "        target_tensors = []\n",
    "        sequence = self.lines[idx].strip()\n",
    "        sequence_input = self.encoder.encode_sequence(sequence)\n",
    "        sequence_target = self.encoder.encode_sequence(sequence)\n",
    "        pad = self.encoder.encode('[PAD]').view(1,-1)\n",
    "        length = sequence_input.shape[0]\n",
    "        for i in range(length):\n",
    "            if self.n_gram == 1:\n",
    "                if length - (i + 1) < self.n_gram:\n",
    "                    input_tensors.append(sequence_input[i:i+1,:])\n",
    "                    assert input_tensors[-1].shape[0] == self.n_gram, '1i'\n",
    "                    target_tensors.append(pad)\n",
    "                else:\n",
    "                    input_tensors.append(sequence_input[i:i+1,:])\n",
    "                    assert input_tensors[-1].shape[0] == self.n_gram, '2i'\n",
    "                    target_tensors.append(sequence_target[i+1:i+2,:])\n",
    "            else:\n",
    "                if length - (i + 1) < self.n_gram:\n",
    "                    padding = pad.repeat(self.n_gram - length + i,1)\n",
    "                    input_tensors.append(torch.cat([sequence_input[i:length,:],padding],dim=0))\n",
    "                    assert input_tensors[-1].shape[0] == self.n_gram, '3i'\n",
    "                    target_tensors.append(pad)\n",
    "                else:\n",
    "                    input_tensors.append(sequence_input[i:i+self.n_gram,:])\n",
    "                    assert input_tensors[-1].shape[0] == self.n_gram, '4i'\n",
    "                    target_tensors.append(sequence_target[i+self.n_gram:i+1+self.n_gram,:])\n",
    "        input_stack = torch.stack(input_tensors)\n",
    "        target_stack = torch.stack(target_tensors)\n",
    "        return input_stack, target_stack\n",
    "\n",
    "#Load the dataset for working\n",
    "dataset = SequenceDataset('data/train.csv', endecode, n_gram = n_gram)\n",
    "dataloader = DataLoader(dataset, batch_size=batch_size, shuffle=True, num_workers= 3)"
   ],
   "outputs": [],
   "execution_count": 3
  },
  {
   "cell_type": "code",
   "metadata": {
    "ExecuteTime": {
     "end_time": "2025-04-21T21:51:19.957702Z",
     "start_time": "2025-04-21T20:45:31.610690Z"
    }
   },
   "source": [
    "#Declare RNN with vocab size, hidden dim size\n",
    "charRNN = CharRNN(vocab_size, num_layers, n_gram, dropped_out).to(device)\n",
    "\n",
    "#Using basic cross entropy loss\n",
    "criterion = nn.CrossEntropyLoss(ignore_index=28)\n",
    "\n",
    "#AdamW\n",
    "optimizer = optim.AdamW(charRNN.parameters(), lr=learning_rate)\n",
    "scheduler = torch.optim.lr_scheduler.ReduceLROnPlateau(optimizer,patience=3)\n",
    "charRNN.train()\n",
    "#Typical training loop\n",
    "for epoch in range(num_epochs):\n",
    "    start_time = time.time()\n",
    "    total_epoch_loss = 0.0\n",
    "\n",
    "    for idx, (batch_inputs, batch_targets) in enumerate(dataloader):\n",
    "        batch_inputs = batch_inputs.to(device)\n",
    "        batch_targets = batch_targets.squeeze(2).to(device)\n",
    "        current_batch_size = batch_inputs.size(0)\n",
    "        seq_len = batch_inputs.size(1)\n",
    "        batch_inputs = batch_inputs.view(current_batch_size, seq_len, n_gram * vocab_size)\n",
    "        target_indices = torch.argmax(batch_targets, dim=2).long()\n",
    "\n",
    "        optimizer.zero_grad()\n",
    "\n",
    "        hidden = charRNN.init_hidden(current_batch_size).to(device)\n",
    "\n",
    "        logits, mu, std, hidden = charRNN(batch_inputs, hidden)\n",
    "        logits_flat = logits.view(-1, vocab_size)\n",
    "        targets_flat = target_indices.view(-1)\n",
    "\n",
    "        reconstruction_loss = criterion(logits_flat, targets_flat)\n",
    "        kl_loss = -0.5 * torch.sum(1 + torch.log(std.pow(2) + 1e-8) - mu.pow(2) - std.pow(2), dim=1)\n",
    "        kl_loss = torch.mean(kl_loss)\n",
    "        loss = reconstruction_loss + kl_loss * eps\n",
    "        loss.backward()\n",
    "\n",
    "        optimizer.step()\n",
    "        total_epoch_loss += loss.item()\n",
    "\n",
    "    avg_epoch_loss = total_epoch_loss / len(dataloader)\n",
    "    scheduler.step(avg_epoch_loss)\n",
    "\n",
    "    end_time = time.time()\n",
    "    epoch_duration = end_time - start_time\n",
    "    epoch_duration_minutes = int(epoch_duration // 60)\n",
    "    epoch_duration_seconds = int(epoch_duration % 60)\n",
    "\n",
    "    print(f\"Epoch {epoch + 1}/{num_epochs}, Loss: {avg_epoch_loss}, Time: {epoch_duration_minutes}m {epoch_duration_seconds}s\")\n"
   ],
   "outputs": [
    {
     "name": "stdout",
     "output_type": "stream",
     "text": [
      "Epoch 1/15, Loss: 2.225522443524587, Time: 4m 21s\n",
      "Epoch 2/15, Loss: 2.205253518238108, Time: 4m 22s\n",
      "Epoch 3/15, Loss: 2.0554271598486884, Time: 4m 22s\n",
      "Epoch 4/15, Loss: 2.081372207459986, Time: 4m 23s\n",
      "Epoch 5/15, Loss: 2.209873794873915, Time: 4m 22s\n",
      "Epoch 6/15, Loss: 2.2175251170210606, Time: 4m 23s\n",
      "Epoch 7/15, Loss: 2.2173574422908087, Time: 4m 22s\n",
      "Epoch 8/15, Loss: 2.2165991589896343, Time: 4m 23s\n",
      "Epoch 9/15, Loss: 2.216502406797007, Time: 4m 23s\n",
      "Epoch 10/15, Loss: 2.2165915418414457, Time: 4m 23s\n",
      "Epoch 11/15, Loss: 2.2165745260487886, Time: 4m 23s\n",
      "Epoch 12/15, Loss: 2.2164782536971397, Time: 4m 23s\n",
      "Epoch 13/15, Loss: 2.2164823648098153, Time: 4m 23s\n",
      "Epoch 14/15, Loss: 2.216466321985241, Time: 4m 23s\n",
      "Epoch 15/15, Loss: 2.2164686826411097, Time: 4m 23s\n"
     ]
    }
   ],
   "execution_count": 4
  },
  {
   "metadata": {},
   "cell_type": "markdown",
   "source": ""
  },
  {
   "cell_type": "code",
   "metadata": {
    "ExecuteTime": {
     "end_time": "2025-04-21T21:51:20.065122Z",
     "start_time": "2025-04-21T21:51:20.063113Z"
    }
   },
   "source": [
    "#This is a bit wonky as its turning the output into a probability distribution and then takes the smallest group of logits to add up to the probability of top_p then samples those\n",
    "def top_p_filtering(logits_p, top_p, temp_p):\n",
    "    probs = nn.functional.softmax(logits_p.squeeze(0)[-1] / temp_p, dim=0)\n",
    "    sorted_probs, sorted_indices = torch.sort(probs, descending=True)\n",
    "    cumulative_probs = torch.cumsum(sorted_probs, dim=0) \n",
    "    sorted_indices_to_remove = cumulative_probs > top_p\n",
    "    sorted_indices_to_remove[1:] = sorted_indices_to_remove[:-1].clone()\n",
    "    sorted_indices_to_remove[0] = False\n",
    "    indices_to_remove = sorted_indices_to_remove.scatter(0, sorted_indices, sorted_indices_to_remove)\n",
    "    filtered_probs = probs.masked_fill(indices_to_remove, 0).clone()\n",
    "    filtered_probs = filtered_probs / filtered_probs.sum()\n",
    "    next_token_idx = torch.multinomial(filtered_probs, 1).item()\n",
    "    return next_token_idx"
   ],
   "outputs": [],
   "execution_count": 5
  },
  {
   "cell_type": "code",
   "metadata": {
    "ExecuteTime": {
     "end_time": "2025-04-21T21:51:20.336702Z",
     "start_time": "2025-04-21T21:51:20.123332Z"
    }
   },
   "source": [
    "#Inputs the start token then does top p sampling until it generates the stop token[EOS] to it hits 200 characters whatever comes first.\n",
    "currenToken = endecode.encode('[BOS]').to(device)\n",
    "charRNN.to(device)\n",
    "charRNN.eval()\n",
    "generation = []\n",
    "with torch.no_grad():\n",
    "    while True:\n",
    "        if currenToken.dim() == 2:\n",
    "            currenToken = currenToken.unsqueeze(0)\n",
    "        logits, _ , _ = charRNN(currenToken)\n",
    "        next_token_index = top_p_filtering(logits, p, temp)\n",
    "        next_token = torch.zeros(vocab_size)\n",
    "        next_token[next_token_index] = 1\n",
    "        char = endecode.decode(next_token)\n",
    "        if char == '[EOS]': break\n",
    "        generation.append(char)\n",
    "        currenToken = next_token.unsqueeze(0).unsqueeze(0).to(device)\n",
    "\n",
    "print(''.join(generation))"
   ],
   "outputs": [
    {
     "ename": "RuntimeError",
     "evalue": "Sizes of tensors must match except in dimension 2. Expected size 1 but got size 59 for tensor number 1 in the list.",
     "output_type": "error",
     "traceback": [
      "\u001B[31m---------------------------------------------------------------------------\u001B[39m",
      "\u001B[31mRuntimeError\u001B[39m                              Traceback (most recent call last)",
      "\u001B[36mCell\u001B[39m\u001B[36m \u001B[39m\u001B[32mIn[6]\u001B[39m\u001B[32m, line 10\u001B[39m\n\u001B[32m      8\u001B[39m \u001B[38;5;28;01mif\u001B[39;00m currenToken.dim() == \u001B[32m2\u001B[39m:\n\u001B[32m      9\u001B[39m     currenToken = currenToken.unsqueeze(\u001B[32m0\u001B[39m)\n\u001B[32m---> \u001B[39m\u001B[32m10\u001B[39m logits, _ , _ = \u001B[43mcharRNN\u001B[49m\u001B[43m(\u001B[49m\u001B[43mcurrenToken\u001B[49m\u001B[43m)\u001B[49m\n\u001B[32m     11\u001B[39m next_token_index = top_p_filtering(logits, p, temp)\n\u001B[32m     12\u001B[39m next_token = torch.zeros(vocab_size)\n",
      "\u001B[36mFile \u001B[39m\u001B[32m~/PycharmProjects/Drug-Discovery/.venv/lib/python3.12/site-packages/torch/nn/modules/module.py:1739\u001B[39m, in \u001B[36mModule._wrapped_call_impl\u001B[39m\u001B[34m(self, *args, **kwargs)\u001B[39m\n\u001B[32m   1737\u001B[39m     \u001B[38;5;28;01mreturn\u001B[39;00m \u001B[38;5;28mself\u001B[39m._compiled_call_impl(*args, **kwargs)  \u001B[38;5;66;03m# type: ignore[misc]\u001B[39;00m\n\u001B[32m   1738\u001B[39m \u001B[38;5;28;01melse\u001B[39;00m:\n\u001B[32m-> \u001B[39m\u001B[32m1739\u001B[39m     \u001B[38;5;28;01mreturn\u001B[39;00m \u001B[38;5;28;43mself\u001B[39;49m\u001B[43m.\u001B[49m\u001B[43m_call_impl\u001B[49m\u001B[43m(\u001B[49m\u001B[43m*\u001B[49m\u001B[43margs\u001B[49m\u001B[43m,\u001B[49m\u001B[43m \u001B[49m\u001B[43m*\u001B[49m\u001B[43m*\u001B[49m\u001B[43mkwargs\u001B[49m\u001B[43m)\u001B[49m\n",
      "\u001B[36mFile \u001B[39m\u001B[32m~/PycharmProjects/Drug-Discovery/.venv/lib/python3.12/site-packages/torch/nn/modules/module.py:1750\u001B[39m, in \u001B[36mModule._call_impl\u001B[39m\u001B[34m(self, *args, **kwargs)\u001B[39m\n\u001B[32m   1745\u001B[39m \u001B[38;5;66;03m# If we don't have any hooks, we want to skip the rest of the logic in\u001B[39;00m\n\u001B[32m   1746\u001B[39m \u001B[38;5;66;03m# this function, and just call forward.\u001B[39;00m\n\u001B[32m   1747\u001B[39m \u001B[38;5;28;01mif\u001B[39;00m \u001B[38;5;129;01mnot\u001B[39;00m (\u001B[38;5;28mself\u001B[39m._backward_hooks \u001B[38;5;129;01mor\u001B[39;00m \u001B[38;5;28mself\u001B[39m._backward_pre_hooks \u001B[38;5;129;01mor\u001B[39;00m \u001B[38;5;28mself\u001B[39m._forward_hooks \u001B[38;5;129;01mor\u001B[39;00m \u001B[38;5;28mself\u001B[39m._forward_pre_hooks\n\u001B[32m   1748\u001B[39m         \u001B[38;5;129;01mor\u001B[39;00m _global_backward_pre_hooks \u001B[38;5;129;01mor\u001B[39;00m _global_backward_hooks\n\u001B[32m   1749\u001B[39m         \u001B[38;5;129;01mor\u001B[39;00m _global_forward_hooks \u001B[38;5;129;01mor\u001B[39;00m _global_forward_pre_hooks):\n\u001B[32m-> \u001B[39m\u001B[32m1750\u001B[39m     \u001B[38;5;28;01mreturn\u001B[39;00m \u001B[43mforward_call\u001B[49m\u001B[43m(\u001B[49m\u001B[43m*\u001B[49m\u001B[43margs\u001B[49m\u001B[43m,\u001B[49m\u001B[43m \u001B[49m\u001B[43m*\u001B[49m\u001B[43m*\u001B[49m\u001B[43mkwargs\u001B[49m\u001B[43m)\u001B[49m\n\u001B[32m   1752\u001B[39m result = \u001B[38;5;28;01mNone\u001B[39;00m\n\u001B[32m   1753\u001B[39m called_always_called_hooks = \u001B[38;5;28mset\u001B[39m()\n",
      "\u001B[36mFile \u001B[39m\u001B[32m~/PycharmProjects/Drug-Discovery/CharRNN.py:39\u001B[39m, in \u001B[36mCharRNN.forward\u001B[39m\u001B[34m(self, x, hidden)\u001B[39m\n\u001B[32m     37\u001B[39m x_reconstructed, hidden = \u001B[38;5;28mself\u001B[39m.decode_network(z, hidden)\n\u001B[32m     38\u001B[39m hidden_final = hidden[-\u001B[32m1\u001B[39m].unsqueeze(\u001B[32m1\u001B[39m).expand(-\u001B[32m1\u001B[39m, \u001B[32m59\u001B[39m, -\u001B[32m1\u001B[39m)\n\u001B[32m---> \u001B[39m\u001B[32m39\u001B[39m combined = \u001B[43mtorch\u001B[49m\u001B[43m.\u001B[49m\u001B[43mcat\u001B[49m\u001B[43m(\u001B[49m\u001B[43m(\u001B[49m\u001B[43mx_reconstructed\u001B[49m\u001B[43m,\u001B[49m\u001B[43mhidden_final\u001B[49m\u001B[43m)\u001B[49m\u001B[43m,\u001B[49m\u001B[43m \u001B[49m\u001B[43mdim\u001B[49m\u001B[43m=\u001B[49m\u001B[43m-\u001B[49m\u001B[32;43m1\u001B[39;49m\u001B[43m)\u001B[49m\n\u001B[32m     40\u001B[39m final_output = \u001B[38;5;28mself\u001B[39m.linear(combined)\n\u001B[32m     41\u001B[39m \u001B[38;5;28;01mreturn\u001B[39;00m final_output, mu, std, hidden\n",
      "\u001B[31mRuntimeError\u001B[39m: Sizes of tensors must match except in dimension 2. Expected size 1 but got size 59 for tensor number 1 in the list."
     ]
    }
   ],
   "execution_count": 6
  },
  {
   "cell_type": "code",
   "metadata": {
    "ExecuteTime": {
     "end_time": "2025-04-21T21:51:53.045165Z",
     "start_time": "2025-04-21T21:51:53.014940Z"
    }
   },
   "source": "torch.save(charRNN,'Models/charRNN1-gram.pt')",
   "outputs": [],
   "execution_count": 7
  },
  {
   "metadata": {},
   "cell_type": "code",
   "source": [
    "\n",
    "charRNN = torch.load('Models/charRNN1-gram.pt', weights_only=False)\n",
    "currenToken = endecode.encode('[BOS]').to(device)\n",
    "charRNN.to(device)\n",
    "charRNN.eval()\n",
    "generations = []\n",
    "for i in range(int(5e4)):\n",
    "    generation = []\n",
    "    with torch.no_grad():\n",
    "        while True:\n",
    "            if currenToken.dim() == 2:\n",
    "                currenToken = currenToken.unsqueeze(0)\n",
    "            logits = charRNN(currenToken)\n",
    "            next_token_index = top_p_filtering(logits, p, temp)\n",
    "            next_token = torch.zeros(vocab_size)\n",
    "            next_token[next_token_index] = 1\n",
    "            char = endecode.decode(next_token)\n",
    "            if char == '[EOS]': break\n",
    "            generation.append(char)\n",
    "            currenToken = next_token.unsqueeze(0).unsqueeze(0).to(device)\n",
    "\n",
    "    generations.append(''.join(generation))"
   ],
   "outputs": [],
   "execution_count": null
  },
  {
   "metadata": {},
   "cell_type": "code",
   "source": [
    "with open('GRUOnly95P1-gram.txt', 'w') as file:\n",
    "    for item in generations:\n",
    "        file.write(f\"{item}\\n\")\n"
   ],
   "outputs": [],
   "execution_count": null
  },
  {
   "metadata": {},
   "cell_type": "code",
   "source": "",
   "outputs": [],
   "execution_count": null
  }
 ],
 "metadata": {
  "kernelspec": {
   "display_name": "rdkitEnv",
   "language": "python",
   "name": "python3"
  },
  "language_info": {
   "codemirror_mode": {
    "name": "ipython",
    "version": 3
   },
   "file_extension": ".py",
   "mimetype": "text/x-python",
   "name": "python",
   "nbconvert_exporter": "python",
   "pygments_lexer": "ipython3",
   "version": "3.13.2"
  }
 },
 "nbformat": 4,
 "nbformat_minor": 2
}
