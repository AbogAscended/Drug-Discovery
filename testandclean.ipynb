{
 "cells": [
  {
   "cell_type": "code",
   "execution_count": 1,
   "metadata": {},
   "outputs": [],
   "source": [
    "import pandas as pd\n",
    "import torch, torch.nn.functional as F"
   ]
  },
  {
   "cell_type": "code",
   "execution_count": 2,
   "metadata": {},
   "outputs": [],
   "source": [
    "data = pd.read_csv('data/train.csv', index_col=0)"
   ]
  },
  {
   "cell_type": "code",
   "execution_count": 3,
   "metadata": {},
   "outputs": [
    {
     "data": {
      "text/html": [
       "<div>\n",
       "<style scoped>\n",
       "    .dataframe tbody tr th:only-of-type {\n",
       "        vertical-align: middle;\n",
       "    }\n",
       "\n",
       "    .dataframe tbody tr th {\n",
       "        vertical-align: top;\n",
       "    }\n",
       "\n",
       "    .dataframe thead th {\n",
       "        text-align: right;\n",
       "    }\n",
       "</style>\n",
       "<table border=\"1\" class=\"dataframe\">\n",
       "  <thead>\n",
       "    <tr style=\"text-align: right;\">\n",
       "      <th></th>\n",
       "      <th>CCCS(=O)c1ccc2[nH]c(=NC(=O)OC)[nH]c2c1</th>\n",
       "    </tr>\n",
       "    <tr>\n",
       "      <th>0</th>\n",
       "      <th></th>\n",
       "    </tr>\n",
       "  </thead>\n",
       "  <tbody>\n",
       "    <tr>\n",
       "      <th>1</th>\n",
       "      <td>CC(C)(C)C(=O)C(Oc1ccc(Cl)cc1)n1ccnc1</td>\n",
       "    </tr>\n",
       "    <tr>\n",
       "      <th>2</th>\n",
       "      <td>Cc1c(Cl)cccc1Nc1ncccc1C(=O)OCC(O)CO</td>\n",
       "    </tr>\n",
       "    <tr>\n",
       "      <th>3</th>\n",
       "      <td>Cn1cnc2c1c(=O)n(CC(O)CO)c(=O)n2C</td>\n",
       "    </tr>\n",
       "    <tr>\n",
       "      <th>4</th>\n",
       "      <td>CC1Oc2ccc(Cl)cc2N(CC(O)CO)C1=O</td>\n",
       "    </tr>\n",
       "    <tr>\n",
       "      <th>5</th>\n",
       "      <td>CCOC(=O)c1cncn1C1CCCc2ccccc21</td>\n",
       "    </tr>\n",
       "  </tbody>\n",
       "</table>\n",
       "</div>"
      ],
      "text/plain": [
       "  CCCS(=O)c1ccc2[nH]c(=NC(=O)OC)[nH]c2c1\n",
       "0                                       \n",
       "1   CC(C)(C)C(=O)C(Oc1ccc(Cl)cc1)n1ccnc1\n",
       "2    Cc1c(Cl)cccc1Nc1ncccc1C(=O)OCC(O)CO\n",
       "3       Cn1cnc2c1c(=O)n(CC(O)CO)c(=O)n2C\n",
       "4         CC1Oc2ccc(Cl)cc2N(CC(O)CO)C1=O\n",
       "5          CCOC(=O)c1cncn1C1CCCc2ccccc21"
      ]
     },
     "execution_count": 3,
     "metadata": {},
     "output_type": "execute_result"
    }
   ],
   "source": [
    "data.head()"
   ]
  },
  {
   "cell_type": "code",
   "execution_count": 4,
   "metadata": {},
   "outputs": [],
   "source": [
    "data.to_csv('data/train.csv', index=False)"
   ]
  },
  {
   "cell_type": "code",
   "execution_count": 5,
   "metadata": {},
   "outputs": [],
   "source": [
    "data = pd.read_csv('data/train.csv')"
   ]
  },
  {
   "cell_type": "code",
   "execution_count": null,
   "metadata": {},
   "outputs": [],
   "source": [
    "characters = ['Br', 'N', '\\n', ')', 'c', 'o', '6', 's', 'Cl', '=', '2', ']', 'C', 'n', 'O', '4', '1', '#', 'S', 'F', '3', '[', '5', 'H', '(', '-', '[BOS]','[EOS]']\n",
    "char_to_index = {char: idx for idx, char in enumerate(characters)}\n",
    "index_to_char = {idx: char for char, idx in char_to_index.items()}\n",
    "molecules = []\n",
    "with open('data/train.csv','r') as file:\n",
    "    for line in file: molecules.append(line.strip())"
   ]
  },
  {
   "cell_type": "code",
   "execution_count": 28,
   "metadata": {},
   "outputs": [],
   "source": [
    "import torch\n",
    "import torch.nn.functional as F\n",
    "class onehotencoder:\n",
    "    def __init__(self, cti, itc):\n",
    "        self.cti = cti\n",
    "        self.itc = itc\n",
    "        self.len = len(self.cti)\n",
    "\n",
    "    def encode(self, char):\n",
    "        return F.one_hot(torch.tensor([self.cti.get(char)]), num_classes = self.len)\n",
    "    \n",
    "    def decode(self, vec):\n",
    "        return self.itc[torch.argmax(vec).item()]\n",
    "    \n",
    "    def encode_sequence(self, sequence):\n",
    "        sequence = sequence.strip()\n",
    "        tokens = []\n",
    "        tokens.append('[BOS]')\n",
    "        i = 0\n",
    "        while i < len(sequence):\n",
    "            if i+1 < len(sequence) and sequence[i:i+2] == 'Cl':\n",
    "                tokens.append('Cl')\n",
    "                i += 2\n",
    "            elif i+1 < len(sequence) and sequence[i:i+2] == 'Br':\n",
    "                tokens.append('Br')\n",
    "                i += 2\n",
    "            else:\n",
    "                tokens.append(sequence[i])\n",
    "                i += 1\n",
    "        \n",
    "        tokens.append('[EOS]')\n",
    "        indices = [self.cti.get(char) for char in tokens]\n",
    "        return F.one_hot(torch.tensor(indices), num_classes=self.len)\n",
    "\n",
    "    def decode_sequence(self, onehot_sequence):\n",
    "        indices = torch.argmax(onehot_sequence, dim=1).tolist()\n",
    "        return ''.join([self.itc[idx] for idx in indices])"
   ]
  },
  {
   "cell_type": "code",
   "execution_count": 29,
   "metadata": {},
   "outputs": [
    {
     "name": "stdout",
     "output_type": "stream",
     "text": [
      "This is the molecule before encoding, CCCS(=O)c1ccc2[nH]c(=NC(=O)OC)[nH]c2c1\n",
      "This is the molecule after encoding, tensor([[0, 0, 0,  ..., 0, 1, 0],\n",
      "        [1, 0, 0,  ..., 0, 0, 0],\n",
      "        [1, 0, 0,  ..., 0, 0, 0],\n",
      "        ...,\n",
      "        [0, 1, 0,  ..., 0, 0, 0],\n",
      "        [0, 0, 0,  ..., 0, 0, 0],\n",
      "        [0, 0, 0,  ..., 0, 0, 1]])\n",
      "This is the molecule after decoding, [BOS]CCCS(=O)c1ccc2[nH]c(=NC(=O)OC)[nH]c2c1[EOS]\n"
     ]
    }
   ],
   "source": [
    "hotty = onehotencoder(char_to_index,index_to_char)\n",
    "print(f'This is the molecule before encoding, {molecules[0]}')\n",
    "print(f'This is the molecule after encoding, {hotty.encode_sequence(molecules[0])}')\n",
    "print(f'This is the molecule after decoding, {hotty.decode_sequence(hotty.encode_sequence(molecules[0]))}')"
   ]
  },
  {
   "cell_type": "code",
   "execution_count": 1,
   "metadata": {},
   "outputs": [
    {
     "name": "stdout",
     "output_type": "stream",
     "text": [
      "{'B', 'r', 'N', '\\n', ')', 'c', 'o', '6', 's', 'l', '=', '2', ']', 'C', 'n', 'O', '4', '1', '#', 'S', 'F', '3', '[', '5', 'H', '(', '-'}\n"
     ]
    }
   ],
   "source": [
    "fh = open('data/train.csv','r').read()\n",
    "unique_chars = set(fh)\n",
    "print(unique_chars)"
   ]
  },
  {
   "cell_type": "code",
   "execution_count": null,
   "metadata": {},
   "outputs": [],
   "source": []
  }
 ],
 "metadata": {
  "kernelspec": {
   "display_name": "rdkitEnv",
   "language": "python",
   "name": "python3"
  },
  "language_info": {
   "codemirror_mode": {
    "name": "ipython",
    "version": 3
   },
   "file_extension": ".py",
   "mimetype": "text/x-python",
   "name": "python",
   "nbconvert_exporter": "python",
   "pygments_lexer": "ipython3",
   "version": "3.13.2"
  }
 },
 "nbformat": 4,
 "nbformat_minor": 2
}
