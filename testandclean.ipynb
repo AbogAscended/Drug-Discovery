{
 "cells": [
  {
   "metadata": {
    "ExecuteTime": {
     "end_time": "2025-04-25T23:50:24.719591Z",
     "start_time": "2025-04-25T23:50:24.717899Z"
    }
   },
   "cell_type": "code",
   "source": [
    "import pandas as pd\n",
    "import numpy as np\n",
    "import torch\n",
    "from onehotencoder import OneHotEncoder"
   ],
   "outputs": [],
   "execution_count": 50
  },
  {
   "metadata": {
    "ExecuteTime": {
     "end_time": "2025-04-25T23:50:42.520025Z",
     "start_time": "2025-04-25T23:50:42.517174Z"
    }
   },
   "cell_type": "code",
   "source": [
    "n_gram = 4\n",
    "endecode = OneHotEncoder()\n",
    "def get_compound_token(s, n=n_gram):\n",
    "    if not isinstance(s, str) or not s or n <= 0:\n",
    "        return \"\"\n",
    "\n",
    "    token_parts = []\n",
    "    current_length = 0\n",
    "    string_index = 0\n",
    "\n",
    "    while current_length < n and string_index < len(s):\n",
    "        if s[string_index:].startswith('Cl'):\n",
    "            token_parts.append('Cl')\n",
    "            current_length += 1\n",
    "            string_index += 2\n",
    "        elif s[string_index:].startswith('Br'):\n",
    "            token_parts.append('Br')\n",
    "            current_length += 1\n",
    "            string_index += 2\n",
    "        else:\n",
    "            token_parts.append(s[string_index])\n",
    "            current_length += 1\n",
    "            string_index += 1\n",
    "\n",
    "    return \"\".join(token_parts)\n"
   ],
   "outputs": [],
   "execution_count": 55
  },
  {
   "metadata": {
    "ExecuteTime": {
     "end_time": "2025-04-25T23:50:44.791305Z",
     "start_time": "2025-04-25T23:50:42.932645Z"
    }
   },
   "cell_type": "code",
   "source": [
    "if n_gram == 1:\n",
    "    current_n_gram = endecode.encode('[BOS]')\n",
    "else:\n",
    "    string_series = pd.read_csv('data/train.csv', header=None)[0]\n",
    "    string_series = string_series[string_series.apply(lambda x: isinstance(x,str) and x !='')]\n",
    "    top_n_grams = string_series.apply(lambda s: get_compound_token(s, n=n_gram-1))\n",
    "    top_chars = (top_n_grams.value_counts()/sum(top_n_grams.value_counts())).to_dict()\n",
    "    token = np.random.choice(list(top_chars.keys()),p=list(top_chars.values()))\n",
    "    start_token = endecode.encode('[BOS]')\n",
    "    current_n_gram = endecode.encode_sequence(token,skip_append=True)\n",
    "    current_n_gram = torch.tensor(np.concatenate((start_token,current_n_gram),axis=0))\n",
    "\n",
    "print(current_n_gram)"
   ],
   "outputs": [
    {
     "name": "stdout",
     "output_type": "stream",
     "text": [
      "tensor([[0., 0., 0., 0., 0., 0., 0., 0., 0., 0., 0., 0., 0., 0., 0., 0., 0., 0.,\n",
      "         0., 0., 0., 0., 0., 0., 0., 1., 0., 0., 0.],\n",
      "        [0., 0., 0., 0., 0., 0., 0., 0., 0., 0., 0., 1., 0., 0., 0., 0., 0., 0.,\n",
      "         0., 0., 0., 0., 0., 0., 0., 0., 0., 0., 0.],\n",
      "        [0., 1., 0., 0., 0., 0., 0., 0., 0., 0., 0., 0., 0., 0., 0., 0., 0., 0.,\n",
      "         0., 0., 0., 0., 0., 0., 0., 0., 0., 0., 0.],\n",
      "        [0., 0., 0., 0., 0., 0., 0., 0., 0., 0., 0., 0., 0., 0., 0., 0., 0., 0.,\n",
      "         0., 0., 0., 0., 0., 1., 0., 0., 0., 0., 0.]])\n"
     ]
    }
   ],
   "execution_count": 56
  },
  {
   "metadata": {},
   "cell_type": "code",
   "outputs": [],
   "execution_count": null,
   "source": ""
  }
 ],
 "metadata": {
  "kernelspec": {
   "display_name": "rdkitEnv",
   "language": "python",
   "name": "python3"
  },
  "language_info": {
   "codemirror_mode": {
    "name": "ipython",
    "version": 3
   },
   "file_extension": ".py",
   "mimetype": "text/x-python",
   "name": "python",
   "nbconvert_exporter": "python",
   "pygments_lexer": "ipython3",
   "version": "3.13.2"
  }
 },
 "nbformat": 4,
 "nbformat_minor": 2
}
