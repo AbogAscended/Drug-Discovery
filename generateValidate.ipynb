{
 "cells": [
  {
   "cell_type": "code",
   "id": "initial_id",
   "metadata": {
    "collapsed": true,
    "ExecuteTime": {
     "end_time": "2025-05-04T22:27:03.575775Z",
     "start_time": "2025-05-04T22:27:01.498370Z"
    }
   },
   "source": [
    "from CharRNN import CharRNNV2\n",
    "from Generation import *\n",
    "from DataLoader import *\n",
    "import torch\n",
    "from onehotencoder import OneHotEncoder"
   ],
   "outputs": [],
   "execution_count": 1
  },
  {
   "metadata": {
    "ExecuteTime": {
     "end_time": "2025-05-04T22:27:03.619392Z",
     "start_time": "2025-05-04T22:27:03.617760Z"
    }
   },
   "cell_type": "code",
   "source": [
    "endecode = OneHotEncoder()\n",
    "vocab_size = OneHotEncoder.get_vocab_size(self = endecode)\n",
    "n_gram = 1\n",
    "p = .95\n",
    "temp = 1\n",
    "num_layers = 3\n",
    "hidden_size = 1024\n",
    "dropped_out = 0.2\n",
    "amount = 5e4\n",
    "filepath = 'data/GRUOnly1P1-gramBig.txt'"
   ],
   "id": "7a6b56f7ff9f85a7",
   "outputs": [],
   "execution_count": 2
  },
  {
   "metadata": {
    "jupyter": {
     "is_executing": true
    },
    "ExecuteTime": {
     "start_time": "2025-05-04T22:27:03.662380Z"
    }
   },
   "cell_type": "code",
   "source": [
    "charRNN = CharRNNV2(vocab_size=vocab_size, num_layers=num_layers, n_gram=n_gram, hidden_size=hidden_size, dropout=dropped_out)\n",
    "charRNN.load_state_dict(torch.load(\"Models/charRNNv1-gram.pt\"))\n",
    "generator = Generator(charRNN, endecode, vocab_size, n_gram, p, temp)\n",
    "generator.generate(filepath, amount)"
   ],
   "id": "4ee9fcf8bc621502",
   "outputs": [],
   "execution_count": null
  },
  {
   "metadata": {},
   "cell_type": "code",
   "source": [
    "validpath = 'data/GRUOnly95P1-gramBigVALID.txt'\n",
    "validatr = Validator(filepath, validpath)\n",
    "validatr.validate_generation()\n",
    "true_valid, novel = validatr.generate_stats()\n",
    "print(f\"True Valid: {true_valid}%, Novel: {novel}%\")"
   ],
   "id": "f773a3e23b347ec4",
   "outputs": [],
   "execution_count": null
  },
  {
   "metadata": {},
   "cell_type": "code",
   "source": "",
   "id": "2bcca6598dc07e51",
   "outputs": [],
   "execution_count": null
  }
 ],
 "metadata": {
  "kernelspec": {
   "display_name": "Python 3",
   "language": "python",
   "name": "python3"
  },
  "language_info": {
   "codemirror_mode": {
    "name": "ipython",
    "version": 2
   },
   "file_extension": ".py",
   "mimetype": "text/x-python",
   "name": "python",
   "nbconvert_exporter": "python",
   "pygments_lexer": "ipython2",
   "version": "2.7.6"
  }
 },
 "nbformat": 4,
 "nbformat_minor": 5
}
