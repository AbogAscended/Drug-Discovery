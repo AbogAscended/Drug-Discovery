{
 "cells": [
  {
   "cell_type": "code",
   "id": "initial_id",
   "metadata": {
    "collapsed": true,
    "ExecuteTime": {
     "end_time": "2025-05-03T03:32:24.202314Z",
     "start_time": "2025-05-03T03:32:22.245836Z"
    }
   },
   "source": [
    "from CharRNN import CharRNNV2\n",
    "from Generation import *\n",
    "from DataLoader import *\n",
    "import torch\n",
    "from onehotencoder import OneHotEncoder"
   ],
   "outputs": [],
   "execution_count": 1
  },
  {
   "metadata": {
    "ExecuteTime": {
     "end_time": "2025-05-03T03:33:45.133228Z",
     "start_time": "2025-05-03T03:33:45.131193Z"
    }
   },
   "cell_type": "code",
   "source": [
    "endecode = OneHotEncoder()\n",
    "vocab_size = OneHotEncoder.get_vocab_size(self = endecode)\n",
    "n_gram = 1\n",
    "p = 1\n",
    "temp = 1\n",
    "num_layers = 3\n",
    "hidden_size = 1024\n",
    "dropped_out = 0.2\n",
    "filepath = 'data/GRUOnly1P2-gram.txt'"
   ],
   "id": "7a6b56f7ff9f85a7",
   "outputs": [],
   "execution_count": 3
  },
  {
   "metadata": {},
   "cell_type": "code",
   "outputs": [],
   "execution_count": null,
   "source": [
    "charRNN = CharRNNV2(vocab_size=vocab_size, num_layers=num_layers, n_gram=n_gram, hidden_size=1024, dropout=0.2,)\n",
    "charRNN.load_state_dict(torch.load(\"Models/charRNNv2-gram.pt\"))\n",
    "generator = Generator(charRNN, endecode, vocab_size, n_gram, p, temp)\n",
    "generator.generate(filepath)"
   ],
   "id": "4ee9fcf8bc621502"
  },
  {
   "metadata": {
    "ExecuteTime": {
     "end_time": "2025-05-03T03:33:47.969180Z",
     "start_time": "2025-05-03T03:33:47.796072Z"
    }
   },
   "cell_type": "code",
   "source": [
    "validatr = Validator(filepath)\n",
    "print(f'Valid percent: {validatr.validate_generation()*100}%')"
   ],
   "id": "f773a3e23b347ec4",
   "outputs": [
    {
     "name": "stdout",
     "output_type": "stream",
     "text": [
      "Valid percent: 19.695%\n"
     ]
    }
   ],
   "execution_count": 4
  },
  {
   "metadata": {},
   "cell_type": "code",
   "outputs": [],
   "execution_count": null,
   "source": "",
   "id": "bd0d058fd435c003"
  }
 ],
 "metadata": {
  "kernelspec": {
   "display_name": "Python 3",
   "language": "python",
   "name": "python3"
  },
  "language_info": {
   "codemirror_mode": {
    "name": "ipython",
    "version": 2
   },
   "file_extension": ".py",
   "mimetype": "text/x-python",
   "name": "python",
   "nbconvert_exporter": "python",
   "pygments_lexer": "ipython2",
   "version": "2.7.6"
  }
 },
 "nbformat": 4,
 "nbformat_minor": 5
}
