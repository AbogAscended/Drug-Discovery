{
 "cells": [
  {
   "cell_type": "code",
   "id": "initial_id",
   "metadata": {
    "collapsed": true,
    "ExecuteTime": {
     "end_time": "2025-05-04T22:27:03.575775Z",
     "start_time": "2025-05-04T22:27:01.498370Z"
    }
   },
   "source": [
    "from CharRNN import CharRNN, CharRNNV2\n",
    "from Generation import *\n",
    "from DataLoader import *\n",
    "import torch\n",
    "from onehotencoder import OneHotEncoder"
   ],
   "outputs": [],
   "execution_count": 1
  },
  {
   "metadata": {
    "ExecuteTime": {
     "end_time": "2025-05-04T22:27:03.619392Z",
     "start_time": "2025-05-04T22:27:03.617760Z"
    }
   },
   "cell_type": "code",
   "source": [
    "p = 1\n",
    "temp = 1\n",
    "amount = 5e4\n",
    "endecode = OneHotEncoder()\n",
    "vocab_size = OneHotEncoder.get_vocab_size(self = endecode)\n",
    "num_layers = 3\n",
    "n_gram = 1\n",
    "dropped_out = 0.2\n",
    "learning_rate = 1e-6\n",
    "num_epochs = 7\n",
    "kl_epochs = 5\n",
    "batch_size = 128\n",
    "hidden_size = 1024\n",
    "num_workers = 5\n",
    "filepath = 'data/GRUOnly1P1-gramBig.txt'"
   ],
   "id": "7a6b56f7ff9f85a7",
   "outputs": [],
   "execution_count": 2
  },
  {
   "metadata": {
    "ExecuteTime": {
     "end_time": "2025-05-05T01:02:08.238328Z",
     "start_time": "2025-05-04T22:27:03.662380Z"
    }
   },
   "cell_type": "code",
   "source": [
    "charRNN = CharRNN(\n",
    "        vocab_size,\n",
    "        num_layers,\n",
    "        n_gram,\n",
    "        dropped_out,\n",
    "        learning_rate,\n",
    "        kl_epochs,\n",
    "        hidden_size\n",
    "    )\n",
    "charRNN.load_state_dict(torch.load(\"Models/charRNN1-gram.pt\"))\n",
    "generator = Generator(charRNN, endecode, vocab_size, n_gram, p, temp)\n",
    "generator.generate(filepath, amount)"
   ],
   "id": "4ee9fcf8bc621502",
   "outputs": [
    {
     "name": "stdout",
     "output_type": "stream",
     "text": [
      "Generation 50000/50000\r"
     ]
    }
   ],
   "execution_count": 3
  },
  {
   "metadata": {
    "ExecuteTime": {
     "end_time": "2025-05-05T01:02:19.568946Z",
     "start_time": "2025-05-05T01:02:08.246941Z"
    }
   },
   "cell_type": "code",
   "source": [
    "validpath = 'data/GRUOnly1P1-gramBigVALID.txt'\n",
    "validatr = Validator(filepath, validpath)\n",
    "validatr.validate_generation()\n",
    "true_valid, novel = validatr.generate_stats()\n",
    "print(f\"True Valid: {true_valid}%, Novel: {novel}%\")"
   ],
   "id": "f773a3e23b347ec4",
   "outputs": [
    {
     "ename": "ZeroDivisionError",
     "evalue": "division by zero",
     "output_type": "error",
     "traceback": [
      "\u001B[31m---------------------------------------------------------------------------\u001B[39m",
      "\u001B[31mZeroDivisionError\u001B[39m                         Traceback (most recent call last)",
      "\u001B[36mCell\u001B[39m\u001B[36m \u001B[39m\u001B[32mIn[4]\u001B[39m\u001B[32m, line 4\u001B[39m\n\u001B[32m      2\u001B[39m validatr = Validator(filepath, validpath)\n\u001B[32m      3\u001B[39m validatr.validate_generation()\n\u001B[32m----> \u001B[39m\u001B[32m4\u001B[39m true_valid, novel = \u001B[43mvalidatr\u001B[49m\u001B[43m.\u001B[49m\u001B[43mgenerate_stats\u001B[49m\u001B[43m(\u001B[49m\u001B[43m)\u001B[49m\n\u001B[32m      5\u001B[39m \u001B[38;5;28mprint\u001B[39m(\u001B[33mf\u001B[39m\u001B[33m\"\u001B[39m\u001B[33mTrue Valid: \u001B[39m\u001B[38;5;132;01m{\u001B[39;00mtrue_valid\u001B[38;5;132;01m}\u001B[39;00m\u001B[33m%, Novel: \u001B[39m\u001B[38;5;132;01m{\u001B[39;00mnovel\u001B[38;5;132;01m}\u001B[39;00m\u001B[33m%\u001B[39m\u001B[33m\"\u001B[39m)\n",
      "\u001B[36mFile \u001B[39m\u001B[32m~/PycharmProjects/Drug-Discovery/Generation.py:47\u001B[39m, in \u001B[36mValidator.generate_stats\u001B[39m\u001B[34m(self)\u001B[39m\n\u001B[32m     45\u001B[39m     \u001B[38;5;28;01mif\u001B[39;00m line \u001B[38;5;129;01mnot\u001B[39;00m \u001B[38;5;129;01min\u001B[39;00m original_lines:\n\u001B[32m     46\u001B[39m         novel += \u001B[32m1\u001B[39m\n\u001B[32m---> \u001B[39m\u001B[32m47\u001B[39m novel_rate = \u001B[43mnovel\u001B[49m\u001B[43m/\u001B[49m\u001B[38;5;28;43mlen\u001B[39;49m\u001B[43m(\u001B[49m\u001B[43mvalid_lines\u001B[49m\u001B[43m)\u001B[49m * \u001B[32m100\u001B[39m\n\u001B[32m     49\u001B[39m \u001B[38;5;28;01mreturn\u001B[39;00m actual_valid, novel_rate\n",
      "\u001B[31mZeroDivisionError\u001B[39m: division by zero"
     ]
    }
   ],
   "execution_count": 4
  },
  {
   "metadata": {},
   "cell_type": "code",
   "source": "",
   "id": "2bcca6598dc07e51",
   "outputs": [],
   "execution_count": null
  }
 ],
 "metadata": {
  "kernelspec": {
   "display_name": "Python 3",
   "language": "python",
   "name": "python3"
  },
  "language_info": {
   "codemirror_mode": {
    "name": "ipython",
    "version": 2
   },
   "file_extension": ".py",
   "mimetype": "text/x-python",
   "name": "python",
   "nbconvert_exporter": "python",
   "pygments_lexer": "ipython2",
   "version": "2.7.6"
  }
 },
 "nbformat": 4,
 "nbformat_minor": 5
}
