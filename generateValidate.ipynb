{
 "cells": [
  {
   "cell_type": "code",
   "id": "initial_id",
   "metadata": {
    "collapsed": true,
    "ExecuteTime": {
     "end_time": "2025-05-05T17:07:50.383335Z",
     "start_time": "2025-05-05T17:07:49.577769Z"
    }
   },
   "source": "from Generation import *",
   "outputs": [],
   "execution_count": 1
  },
  {
   "metadata": {
    "ExecuteTime": {
     "end_time": "2025-05-05T17:07:50.428736Z",
     "start_time": "2025-05-05T17:07:50.427492Z"
    }
   },
   "cell_type": "code",
   "source": "filepath = 'data/GRUOnly1P3-gram.txt'",
   "id": "7a6b56f7ff9f85a7",
   "outputs": [],
   "execution_count": 2
  },
  {
   "metadata": {
    "ExecuteTime": {
     "end_time": "2025-05-05T17:07:50.947039Z",
     "start_time": "2025-05-05T17:07:50.473136Z"
    }
   },
   "cell_type": "code",
   "source": [
    "validpath = 'data/GRUOnly1P3-gramVALID.txt'\n",
    "validatr = Validator(filepath, validpath)\n",
    "validatr.validate_generation()\n",
    "true_valid, novel = validatr.generate_stats()\n",
    "print(f\"True Valid: {true_valid}%, Novel: {novel}%\")"
   ],
   "id": "f773a3e23b347ec4",
   "outputs": [
    {
     "name": "stdout",
     "output_type": "stream",
     "text": [
      "Valid %: 0.0\n"
     ]
    },
    {
     "ename": "ZeroDivisionError",
     "evalue": "division by zero",
     "output_type": "error",
     "traceback": [
      "\u001B[31m---------------------------------------------------------------------------\u001B[39m",
      "\u001B[31mZeroDivisionError\u001B[39m                         Traceback (most recent call last)",
      "\u001B[36mCell\u001B[39m\u001B[36m \u001B[39m\u001B[32mIn[3]\u001B[39m\u001B[32m, line 4\u001B[39m\n\u001B[32m      2\u001B[39m validatr = Validator(filepath, validpath)\n\u001B[32m      3\u001B[39m validatr.validate_generation()\n\u001B[32m----> \u001B[39m\u001B[32m4\u001B[39m true_valid, novel = \u001B[43mvalidatr\u001B[49m\u001B[43m.\u001B[49m\u001B[43mgenerate_stats\u001B[49m\u001B[43m(\u001B[49m\u001B[43m)\u001B[49m\n\u001B[32m      5\u001B[39m \u001B[38;5;28mprint\u001B[39m(\u001B[33mf\u001B[39m\u001B[33m\"\u001B[39m\u001B[33mTrue Valid: \u001B[39m\u001B[38;5;132;01m{\u001B[39;00mtrue_valid\u001B[38;5;132;01m}\u001B[39;00m\u001B[33m%, Novel: \u001B[39m\u001B[38;5;132;01m{\u001B[39;00mnovel\u001B[38;5;132;01m}\u001B[39;00m\u001B[33m%\u001B[39m\u001B[33m\"\u001B[39m)\n",
      "\u001B[36mFile \u001B[39m\u001B[32m~/PycharmProjects/Drug-Discovery/Generation.py:48\u001B[39m, in \u001B[36mValidator.generate_stats\u001B[39m\u001B[34m(self)\u001B[39m\n\u001B[32m     46\u001B[39m     \u001B[38;5;28;01mif\u001B[39;00m line \u001B[38;5;129;01mnot\u001B[39;00m \u001B[38;5;129;01min\u001B[39;00m original_lines:\n\u001B[32m     47\u001B[39m         novel += \u001B[32m1\u001B[39m\n\u001B[32m---> \u001B[39m\u001B[32m48\u001B[39m novel_rate = \u001B[43mnovel\u001B[49m\u001B[43m/\u001B[49m\u001B[38;5;28;43mlen\u001B[39;49m\u001B[43m(\u001B[49m\u001B[43mvalid_lines\u001B[49m\u001B[43m)\u001B[49m * \u001B[32m100\u001B[39m\n\u001B[32m     50\u001B[39m \u001B[38;5;28;01mreturn\u001B[39;00m actual_unique, novel_rate\n",
      "\u001B[31mZeroDivisionError\u001B[39m: division by zero"
     ]
    }
   ],
   "execution_count": 3
  }
 ],
 "metadata": {
  "kernelspec": {
   "display_name": "Python 3",
   "language": "python",
   "name": "python3"
  },
  "language_info": {
   "codemirror_mode": {
    "name": "ipython",
    "version": 2
   },
   "file_extension": ".py",
   "mimetype": "text/x-python",
   "name": "python",
   "nbconvert_exporter": "python",
   "pygments_lexer": "ipython2",
   "version": "2.7.6"
  }
 },
 "nbformat": 4,
 "nbformat_minor": 5
}
